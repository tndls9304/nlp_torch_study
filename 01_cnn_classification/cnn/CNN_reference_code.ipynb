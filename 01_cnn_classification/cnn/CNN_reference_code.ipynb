{
 "cells": [
  {
   "cell_type": "markdown",
   "metadata": {},
   "source": [
    "## Sentence Classification with CNN"
   ]
  },
  {
   "cell_type": "markdown",
   "metadata": {},
   "source": [
    "1) 원래 코드에 주석 달기\n",
    "\n",
    "2) 새로운 데이터셋 적용하여 돌려보기\n",
    "\n",
    "3) 구현 시 주의해야할 사항 미리 생각해오기"
   ]
  },
  {
   "cell_type": "markdown",
   "metadata": {},
   "source": [
    "### initial settings"
   ]
  },
  {
   "cell_type": "code",
   "execution_count": 1,
   "metadata": {},
   "outputs": [],
   "source": [
    "import torch\n",
    "import torch.nn as nn\n",
    "import torch.nn.functional as F\n",
    "import torch.optim as optim\n",
    "import random\n",
    "import numpy as np\n",
    "\n",
    "SEED = 4321\n",
    "BATCH_SIZE = 64\n",
    "N_FILTERS = 100\n",
    "FILTER_SIZES = [3,4,5]\n",
    "OUTPUT_DIM = 1\n",
    "DROPOUT = 0.8\n",
    "VOCAB_SIZE = 15000\n",
    "device = torch.device('cuda' if torch.cuda.is_available() else 'cpu')\n",
    "\n",
    "random.seed(SEED)\n",
    "np.random.seed(SEED)\n",
    "torch.manual_seed(SEED)\n",
    "torch.backends.cudnn.deterministic = True"
   ]
  },
  {
   "cell_type": "markdown",
   "metadata": {},
   "source": [
    "### simple utilities for implementations"
   ]
  },
  {
   "cell_type": "code",
   "execution_count": 2,
   "metadata": {},
   "outputs": [],
   "source": [
    "import codecs\n",
    "import re\n",
    "import time\n",
    "import random\n",
    "\n",
    "def simple_reader(path):\n",
    "    corpus = list()\n",
    "    reader = codecs.open(path, 'r', encoding='utf-8')\n",
    "    for line in reader:\n",
    "        corpus.append(line.strip())\n",
    "    reader.close()\n",
    "    return corpus\n",
    "\n",
    "def simple_writer(path, target):\n",
    "    random.shuffle(target)\n",
    "    writer = codecs.open(path, 'w', encoding='utf-8')\n",
    "    for line in target:\n",
    "        writer.write(line.strip() + '\\n')\n",
    "    writer.close()\n",
    "\n",
    "def clean_str(string, TREC=False):\n",
    "    \"\"\"\n",
    "    Tokenization/string cleaning for all datasets except for SST.\n",
    "    Every dataset is lower cased except for TREC\n",
    "    \"\"\"\n",
    "    string = re.sub(r\"[^A-Za-z0-9(),!?\\'`]\", \" \", string)\n",
    "    string = re.sub(r\"\\'(s|ve|re|d|ll)\", r\" \\'\\1\", string)\n",
    "    string = re.sub(r\"n\\'t\", r\" n\\'t\", string)\n",
    "    string = re.sub(r\"([,!)(?]|\\s{2,})\", r\" \\1 \", string)\n",
    "    return string.strip() if TREC else string.strip().lower()\n",
    "\n",
    "\n",
    "def clean_str_sst(string):\n",
    "    \"\"\"\n",
    "    Tokenization/string cleaning for the SST dataset\n",
    "    \"\"\"\n",
    "    string = re.sub(r\"[^A-Za-z0-9(),!?\\'`]\", \" \", string)\n",
    "    string = re.sub(r\"\\s{2,}\", \" \", string)\n",
    "    return string.strip().lower()\n",
    "\n",
    "def clean_list(corpus):\n",
    "    new_corpus = list()\n",
    "    for line in corpus:\n",
    "        if '\\t' in line:\n",
    "            label, single_line = line.strip().split('\\t')\n",
    "            single_line = clean_str(single_line)\n",
    "            if single_line.strip() == '':\n",
    "                continue\n",
    "            new_line = '\\t'.join([label, single_line])\n",
    "            new_corpus.append(new_line)\n",
    "    return new_corpus"
   ]
  },
  {
   "cell_type": "markdown",
   "metadata": {},
   "source": [
    "### Load dataset and preprocessing"
   ]
  },
  {
   "cell_type": "code",
   "execution_count": 3,
   "metadata": {},
   "outputs": [],
   "source": [
    "from torchtext import data\n",
    "from torchtext import datasets\n",
    "from torchtext.vocab import Vocab\n",
    "\n",
    "# define fields\n",
    "TEXT = data.Field(sequential=True, use_vocab=True, tokenize=lambda x: x.split(' '), lower=False, batch_first=True, fix_length=20)\n",
    "LABEL = data.Field(sequential=False, unk_token=None)\n",
    "\n",
    "# preprocessing corpus\n",
    "datalist = simple_reader('/home/suin/study/cnn/dataset/rt-polarity.pos') + simple_reader('/home/suin/study/cnn/dataset/rt-polarity.neg')\n",
    "datalist = clean_list(datalist)\n",
    "simple_writer('/home/suin/study/cnn/dataset/rt-polarity_clean.txt', datalist)\n",
    "\n",
    "# load dataset with torchtext TabularDataset\n",
    "dataset = data.TabularDataset(path='/home/suin/study/cnn/dataset/rt-polarity_clean.txt', \n",
    "                              fields=[('label', LABEL), ('text', TEXT)], format='csv', \n",
    "                              csv_reader_params={'delimiter': '\\t'}, skip_header=True)"
   ]
  },
  {
   "cell_type": "markdown",
   "metadata": {},
   "source": [
    "### Load Word2Vec (GoogleNews 300 dim version)"
   ]
  },
  {
   "cell_type": "code",
   "execution_count": 4,
   "metadata": {},
   "outputs": [],
   "source": [
    "from gensim.models import KeyedVectors\n",
    "\n",
    "word2vec = KeyedVectors.load_word2vec_format(\"/home/suin/study/cnn/cnn/GoogleNews-vectors-negative300.bin\", binary=True)\n",
    "word2index = {token: token_index for token_index, token in enumerate(word2vec.index2word)}"
   ]
  },
  {
   "cell_type": "code",
   "execution_count": 5,
   "metadata": {},
   "outputs": [
    {
     "name": "stdout",
     "output_type": "stream",
     "text": [
      "number of training data : 7463\n",
      "number of valid data : 2132\n",
      "number of test data : 1066\n"
     ]
    }
   ],
   "source": [
    "# divide dataset as 8 : 2 : 1\n",
    "\n",
    "train_data, test_data = dataset.split(split_ratio=0.9, random_state = random.seed(SEED))\n",
    "train_data, valid_data = train_data.split(split_ratio=7./9, random_state = random.seed(SEED))\n",
    "\n",
    "TEXT.build_vocab(train_data, max_size = VOCAB_SIZE)\n",
    "LABEL.build_vocab(train_data)\n",
    "TEXT.vocab.set_vectors(word2index, torch.from_numpy(word2vec.vectors).float().to(device), word2vec.vector_size)\n",
    "\n",
    "train_iterator = data.Iterator(train_data, batch_size=BATCH_SIZE, train=True, device=device, sort_key=lambda x: len(x.text), sort_within_batch=False)\n",
    "valid_iterator = data.Iterator(valid_data, batch_size=BATCH_SIZE, train=False, device=device, sort_key=lambda x: len(x.text), sort_within_batch=False)\n",
    "test_iterator = data.Iterator(test_data, batch_size=BATCH_SIZE, train=False, device=device, sort_key=lambda x: len(x.text), sort_within_batch=False)\n",
    "\n",
    "print('number of training data : {}'.format(len(train_data)))\n",
    "print('number of valid data : {}'.format(len(valid_data)))\n",
    "print('number of test data : {}'.format(len(test_data)))"
   ]
  },
  {
   "cell_type": "markdown",
   "metadata": {},
   "source": [
    "### Model training and evaluating functions"
   ]
  },
  {
   "cell_type": "code",
   "execution_count": 6,
   "metadata": {},
   "outputs": [],
   "source": [
    "class CNN1d(nn.Module):\n",
    "    def __init__(self, vocab_size, embedding_dim, n_filters, filter_sizes, output_dim, dropout, pad_idx):        \n",
    "        super().__init__()        \n",
    "        self.embedding = nn.Embedding(vocab_size, embedding_dim, padding_idx = pad_idx)\n",
    "        self.convs = nn.ModuleList([\n",
    "                                    nn.Conv1d(in_channels = embedding_dim, \n",
    "                                              out_channels = n_filters, \n",
    "                                              kernel_size = fs)\n",
    "                                    for fs in filter_sizes\n",
    "                                    ])        \n",
    "        self.fc = nn.Linear(len(filter_sizes) * n_filters, output_dim)        \n",
    "        self.dropout = nn.Dropout(dropout)        \n",
    "    def forward(self, text):        \n",
    "        #text = [batch size, sent len]        \n",
    "        embedded = self.embedding(text)                \n",
    "        #embedded = [batch size, sent len, emb dim]        \n",
    "        embedded = embedded.permute(0, 2, 1)        \n",
    "        #embedded = [batch size, emb dim, sent len]        \n",
    "        conved = [F.relu(conv(embedded)) for conv in self.convs]            \n",
    "        #conved_n = [batch size, n_filters, sent len - filter_sizes[n] + 1]        \n",
    "        pooled = [F.max_pool1d(conv, conv.shape[2]).squeeze(2) for conv in conved]        \n",
    "        #pooled_n = [batch size, n_filters]        \n",
    "        cat = self.dropout(torch.cat(pooled, dim = 1))        \n",
    "        #cat = [batch size, n_filters * len(filter_sizes)]            \n",
    "        return self.fc(cat)\n",
    "\n",
    "def binary_accuracy(preds, y):\n",
    "    \"\"\"\n",
    "    Returns accuracy per batch, i.e. if you get 8/10 right, this returns 0.8, NOT 8\n",
    "    \"\"\"\n",
    "\n",
    "    #round predictions to the closest integer\n",
    "    rounded_preds = torch.round(torch.sigmoid(preds))\n",
    "    correct = (rounded_preds == y).float() #convert into float for division \n",
    "    acc = correct.sum() / len(correct)\n",
    "    return acc\n",
    "\n",
    "def train(model, iterator, optimizer, criterion):    \n",
    "    epoch_loss = 0\n",
    "    epoch_acc = 0    \n",
    "    model.train()    \n",
    "    for batch in iterator:\n",
    "        # print(batch.text)\n",
    "        optimizer.zero_grad()        \n",
    "        predictions = model(batch.text).squeeze(1)        \n",
    "        loss = criterion(predictions, batch.label.float())        \n",
    "        acc = binary_accuracy(predictions, batch.label)        \n",
    "        loss.backward()\n",
    "        optimizer.step()        \n",
    "        epoch_loss += loss.item()\n",
    "        epoch_acc += acc.item()        \n",
    "    return epoch_loss / len(iterator), epoch_acc / len(iterator)\n",
    "\n",
    "def evaluate(model, iterator, criterion):    \n",
    "    epoch_loss = 0\n",
    "    epoch_acc = 0    \n",
    "    model.eval()    \n",
    "    with torch.no_grad():    \n",
    "        for batch in iterator:\n",
    "            predictions = model(batch.text).squeeze(1)            \n",
    "            loss = criterion(predictions, batch.label.float())            \n",
    "            acc = binary_accuracy(predictions, batch.label.float())\n",
    "            epoch_loss += loss.item()\n",
    "            epoch_acc += acc.item()        \n",
    "    return epoch_loss / len(iterator), epoch_acc / len(iterator)\n",
    "\n",
    "def epoch_time(start_time, end_time):\n",
    "    elapsed_time = end_time - start_time\n",
    "    elapsed_mins = int(elapsed_time / 60)\n",
    "    elapsed_secs = int(elapsed_time - (elapsed_mins * 60))\n",
    "    return elapsed_mins, elapsed_secs"
   ]
  },
  {
   "cell_type": "markdown",
   "metadata": {},
   "source": [
    "### Model parameter setting"
   ]
  },
  {
   "cell_type": "code",
   "execution_count": 7,
   "metadata": {},
   "outputs": [],
   "source": [
    "INPUT_DIM = len(TEXT.vocab)\n",
    "EMBEDDING_DIM = 300\n",
    "PAD_IDX = TEXT.vocab.stoi[TEXT.pad_token]\n",
    "\n",
    "# Initialize a model here...\n",
    "model = CNN1d(INPUT_DIM, EMBEDDING_DIM, N_FILTERS, FILTER_SIZES, OUTPUT_DIM, DROPOUT, PAD_IDX)\n",
    "UNK_IDX = TEXT.vocab.stoi[TEXT.unk_token]\n",
    "\n",
    "model.embedding.weight.data[UNK_IDX] = torch.zeros(EMBEDDING_DIM)\n",
    "model.embedding.weight.data[PAD_IDX] = torch.zeros(EMBEDDING_DIM)\n",
    "model.embedding.weight.data.copy_(TEXT.vocab.vectors)\n",
    "\n",
    "optimizer = optim.Adadelta(model.parameters(), lr=0.3)\n",
    "criterion = nn.BCEWithLogitsLoss()\n",
    "model = model.to(device)\n",
    "criterion = criterion.to(device)"
   ]
  },
  {
   "cell_type": "markdown",
   "metadata": {},
   "source": [
    "### train and test the model"
   ]
  },
  {
   "cell_type": "code",
   "execution_count": 8,
   "metadata": {},
   "outputs": [
    {
     "name": "stdout",
     "output_type": "stream",
     "text": [
      "Epoch: 01 | Epoch Time: 0m 0s\n",
      "\tTrain Loss: 0.679 | Train Acc: 56.98%\n",
      "\t Val. Loss: 0.659 |  Val. Acc: 65.66%\n",
      "Epoch: 02 | Epoch Time: 0m 0s\n",
      "\tTrain Loss: 0.632 | Train Acc: 66.74%\n",
      "\t Val. Loss: 0.596 |  Val. Acc: 72.54%\n",
      "Epoch: 03 | Epoch Time: 0m 0s\n",
      "\tTrain Loss: 0.576 | Train Acc: 70.88%\n",
      "\t Val. Loss: 0.570 |  Val. Acc: 70.39%\n",
      "Epoch: 04 | Epoch Time: 0m 0s\n",
      "\tTrain Loss: 0.534 | Train Acc: 74.41%\n",
      "\t Val. Loss: 0.526 |  Val. Acc: 74.01%\n",
      "Epoch: 05 | Epoch Time: 0m 0s\n",
      "\tTrain Loss: 0.505 | Train Acc: 75.90%\n",
      "\t Val. Loss: 0.512 |  Val. Acc: 74.83%\n",
      "Epoch: 06 | Epoch Time: 0m 0s\n",
      "\tTrain Loss: 0.478 | Train Acc: 77.94%\n",
      "\t Val. Loss: 0.510 |  Val. Acc: 74.72%\n",
      "Epoch: 07 | Epoch Time: 0m 0s\n",
      "\tTrain Loss: 0.454 | Train Acc: 79.70%\n",
      "\t Val. Loss: 0.502 |  Val. Acc: 75.10%\n",
      "Epoch: 08 | Epoch Time: 0m 0s\n",
      "\tTrain Loss: 0.432 | Train Acc: 80.67%\n",
      "\t Val. Loss: 0.502 |  Val. Acc: 75.01%\n",
      "Epoch: 09 | Epoch Time: 0m 0s\n",
      "\tTrain Loss: 0.408 | Train Acc: 81.69%\n",
      "\t Val. Loss: 0.493 |  Val. Acc: 75.74%\n",
      "Epoch: 10 | Epoch Time: 0m 0s\n",
      "\tTrain Loss: 0.376 | Train Acc: 83.86%\n",
      "\t Val. Loss: 0.492 |  Val. Acc: 75.63%\n",
      "Epoch: 10 | Epoch Time: 0m 0s\n",
      "\tTrain Loss: 0.376 | Train Acc: 83.86%\n",
      "\t Val. Loss: 0.492 |  Val. Acc: 75.63%\n",
      "\t Test Loss: 0.520 |  Val. Acc: 73.64%\n"
     ]
    }
   ],
   "source": [
    "N_EPOCHS = 10\n",
    "best_valid_loss = float('inf')\n",
    "best_test_loss = float('inf')\n",
    "train_losses = list()\n",
    "valid_losses = list()\n",
    "train_acces = list()\n",
    "valid_acces = list()\n",
    "\n",
    "for epoch in range(N_EPOCHS):\n",
    "    # Train the model here...a\n",
    "    start_time = time.time() \n",
    "    train_loss, train_acc = train(model, train_iterator, optimizer, criterion)\n",
    "    valid_loss, valid_acc = evaluate(model, valid_iterator, criterion)\n",
    "    train_losses.append(train_loss)\n",
    "    valid_losses.append(valid_loss)\n",
    "    train_acces.append(train_acc)\n",
    "    valid_acces.append(valid_acc)\n",
    "    end_time = time.time()\n",
    "    epoch_mins, epoch_secs = epoch_time(start_time, end_time)    \n",
    "    if valid_loss < best_valid_loss:\n",
    "        best_valid_loss = valid_loss\n",
    "        torch.save(model.state_dict(), '/home/suin/study/cnn/cnn/model/tut4-model.pt')    \n",
    "    # Create prediction for val_dataset and get a score...\n",
    "    print(f'Epoch: {epoch+1:02} | Epoch Time: {epoch_mins}m {epoch_secs}s')\n",
    "    print(f'\\tTrain Loss: {train_loss:.3f} | Train Acc: {train_acc*100:.2f}%')\n",
    "    print(f'\\t Val. Loss: {valid_loss:.3f} |  Val. Acc: {valid_acc*100:.2f}%')\n",
    "    \n",
    "# Create inference for test_dataset...\n",
    "test_loss, test_acc = evaluate(model, test_iterator, criterion)  \n",
    "print(f'Epoch: {epoch+1:02} | Epoch Time: {epoch_mins}m {epoch_secs}s')\n",
    "print(f'\\tTrain Loss: {train_loss:.3f} | Train Acc: {train_acc*100:.2f}%')\n",
    "print(f'\\t Val. Loss: {valid_loss:.3f} |  Val. Acc: {valid_acc*100:.2f}%')\n",
    "print(f'\\t Test Loss: {test_loss:.3f} |  Val. Acc: {test_acc*100:.2f}%')\n",
    "    "
   ]
  },
  {
   "cell_type": "markdown",
   "metadata": {},
   "source": [
    "### draw graph about losses and accuracies"
   ]
  },
  {
   "cell_type": "code",
   "execution_count": 9,
   "metadata": {},
   "outputs": [],
   "source": [
    "import matplotlib.pyplot as plt"
   ]
  },
  {
   "cell_type": "code",
   "execution_count": 10,
   "metadata": {
    "scrolled": true
   },
   "outputs": [
    {
     "data": {
      "image/png": "[encoded data removed]",
      "text/plain": [
       "<Figure size 432x288 with 1 Axes>"
      ]
     },
     "metadata": {
      "needs_background": "light"
     },
     "output_type": "display_data"
    }
   ],
   "source": [
    "plt.plot(train_losses)\n",
    "plt.plot(valid_losses)\n",
    "plt.xlabel('epoch')\n",
    "plt.ylabel('loss')\n",
    "plt.show()"
   ]
  },
  {
   "cell_type": "code",
   "execution_count": null,
   "metadata": {},
   "outputs": [],
   "source": [
    "plt.plot(train_acces)\n",
    "plt.plot(valid_acces)\n",
    "plt.xlabel('epoch')\n",
    "plt.ylabel('accuracy')\n",
    "plt.show()"
   ]
  },
  {
   "cell_type": "code",
   "execution_count": null,
   "metadata": {},
   "outputs": [],
   "source": []
  }
 ],
 "metadata": {
  "kernelspec": {
   "display_name": "Python 3",
   "language": "python",
   "name": "python3"
  },
  "language_info": {
   "codemirror_mode": {
    "name": "ipython",
    "version": 3
   },
   "file_extension": ".py",
   "mimetype": "text/x-python",
   "name": "python",
   "nbconvert_exporter": "python",
   "pygments_lexer": "ipython3",
   "version": "3.8.5"
  }
 },
 "nbformat": 4,
 "nbformat_minor": 4
}
