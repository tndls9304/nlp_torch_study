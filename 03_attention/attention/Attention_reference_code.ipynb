{
 "cells": [
  {
   "cell_type": "markdown",
   "metadata": {},
   "source": [
    "# Attetnion Reference code\n",
    "\n",
    "1) 원래 코드에 주석 달기  \n",
    "2) 새로운 데이터셋 적용하여 돌려보기  \n",
    "3) 구현 시 주의해야할 사항 미리 생각해오기  "
   ]
  },
  {
   "cell_type": "markdown",
   "metadata": {},
   "source": [
    "### Initial settings"
   ]
  },
  {
   "cell_type": "code",
   "execution_count": 1,
   "metadata": {},
   "outputs": [],
   "source": [
    "import torch\n",
    "import torch.nn as nn\n",
    "import torch.optim as optim\n",
    "import torch.nn.functional as F\n",
    "\n",
    "from torchtext.datasets import Multi30k\n",
    "from torchtext.data import Field, BucketIterator\n",
    "\n",
    "import spacy\n",
    "import numpy as np\n",
    "\n",
    "import codecs\n",
    "import random\n",
    "import math\n",
    "import time\n",
    "import os\n",
    "\n",
    "from tqdm.notebook import tqdm\n",
    "from sacrebleu import corpus_bleu"
   ]
  },
  {
   "cell_type": "code",
   "execution_count": 2,
   "metadata": {},
   "outputs": [],
   "source": [
    "def simple_reader(path):\n",
    "    corpus = list()\n",
    "    reader = codecs.open(path, 'r', encoding='utf-8')\n",
    "    for line in reader:\n",
    "        corpus.append(line.strip())\n",
    "    reader.close()\n",
    "    return corpus\n",
    "\n",
    "\n",
    "def simple_writer(path, target):\n",
    "    # random.shuffle(target)\n",
    "    writer = codecs.open(path, 'w', encoding='utf-8')\n",
    "    for line in target:\n",
    "        writer.write(line.strip() + '\\n')\n",
    "    writer.close()\n",
    "    print('{} sentences are written'.format(len(target)))"
   ]
  },
  {
   "cell_type": "code",
   "execution_count": 3,
   "metadata": {},
   "outputs": [],
   "source": [
    "SEED = 1234\n",
    "BATCH_SIZE = 64\n",
    "\n",
    "random.seed(SEED)\n",
    "np.random.seed(SEED)\n",
    "torch.manual_seed(SEED)\n",
    "torch.cuda.manual_seed(SEED)\n",
    "torch.backends.cudnn.deterministic = True\n",
    "\n",
    "device = torch.device('cuda' if torch.cuda.is_available() else 'cpu')"
   ]
  },
  {
   "cell_type": "markdown",
   "metadata": {},
   "source": [
    "### load dataset  \n",
    "use the dataset downloaded from seq2seq\n",
    "\n",
    "en_core_web_sm\n",
    "fr_core_news_sm"
   ]
  },
  {
   "cell_type": "code",
   "execution_count": 4,
   "metadata": {},
   "outputs": [],
   "source": [
    "spacy_fr = spacy.load('fr_core_news_sm')\n",
    "spacy_en = spacy.load('en_core_web_sm')"
   ]
  },
  {
   "cell_type": "code",
   "execution_count": 5,
   "metadata": {},
   "outputs": [],
   "source": [
    "def tokenize_fr(text):\n",
    "    return [tok.text for tok in spacy_fr.tokenizer(text)]\n",
    "def tokenize_en(text):\n",
    "    return [tok.text for tok in spacy_en.tokenizer(text)]"
   ]
  },
  {
   "cell_type": "code",
   "execution_count": 6,
   "metadata": {},
   "outputs": [],
   "source": [
    "SRC = Field(tokenize=tokenize_fr,\n",
    "            init_token=None,\n",
    "            eos_token='<eos>',\n",
    "            pad_token='<pad>',\n",
    "            unk_token='<unk>',\n",
    "            lower=True,\n",
    "            include_lengths=True,\n",
    "            batch_first=True)\n",
    "TRG = Field(tokenize=tokenize_en,\n",
    "           init_token='<sos>', \n",
    "           eos_token='<eos>',\n",
    "           pad_token='<pad>',\n",
    "           unk_token='<unk>',\n",
    "           lower=True,\n",
    "           include_lengths=True,\n",
    "           batch_first=True)"
   ]
  },
  {
   "cell_type": "code",
   "execution_count": 7,
   "metadata": {},
   "outputs": [],
   "source": [
    "train_data, valid_data, test_data = Multi30k.splits(exts = ('.fr', '.en'), fields = (SRC, TRG))"
   ]
  },
  {
   "cell_type": "code",
   "execution_count": 8,
   "metadata": {},
   "outputs": [
    {
     "name": "stdout",
     "output_type": "stream",
     "text": [
      "Number of training examples: 29000\n",
      "Number of validation examples: 1014\n",
      "Number of testing examples: 1000\n"
     ]
    }
   ],
   "source": [
    "print(f\"Number of training examples: {len(train_data.examples)}\")\n",
    "print(f\"Number of validation examples: {len(valid_data.examples)}\")\n",
    "print(f\"Number of testing examples: {len(test_data.examples)}\")"
   ]
  },
  {
   "cell_type": "code",
   "execution_count": 9,
   "metadata": {},
   "outputs": [],
   "source": [
    "def print_pair_examples(dataset, printing_size=1):\n",
    "    def numeric2ordinal(idx):\n",
    "        if idx == 0:\n",
    "            suff = 'st'\n",
    "        elif idx == 1:\n",
    "            suff = 'nd'\n",
    "        elif idx == 2:\n",
    "            suff = 'rd'\n",
    "        else:\n",
    "            suff = 'th'\n",
    "        return str(idx+1) + suff\n",
    "    data_size = len(dataset.examples)\n",
    "    for _ in range(printing_size):\n",
    "        rand_idx = random.randint(0, data_size)\n",
    "        text_dict = vars(dataset.examples[rand_idx])\n",
    "        print(numeric2ordinal(rand_idx), 'example:')\n",
    "        print('source txt:', ' '.join(text_dict['src']))\n",
    "        print('target txt:', ' '.join(text_dict['trg']))    "
   ]
  },
  {
   "cell_type": "code",
   "execution_count": 10,
   "metadata": {},
   "outputs": [
    {
     "name": "stdout",
     "output_type": "stream",
     "text": [
      "25499th example:\n",
      "source txt: un match de roller derby avec une photo d' une fille en pleine action au premier plan .\n",
      "target txt: a roller derby match with an action shot of a derby girl in the foreground .\n",
      "14442th example:\n",
      "source txt: deux hommes en costumes noirs marchent vers un bureau .\n",
      "target txt: two men in black suits are walking towards a business office .\n",
      "3829th example:\n",
      "source txt: un homme habillé en noir est debout devant un chien blanc .\n",
      "target txt: a man dressed in black is standing above a white dog .\n"
     ]
    }
   ],
   "source": [
    "print_pair_examples(train_data, 3)"
   ]
  },
  {
   "cell_type": "code",
   "execution_count": 11,
   "metadata": {},
   "outputs": [
    {
     "name": "stdout",
     "output_type": "stream",
     "text": [
      "Unique tokens in source (fr) vocabulary: 6468\n",
      "Unique tokens in target (en) vocabulary: 5893\n"
     ]
    }
   ],
   "source": [
    "SRC.build_vocab(train_data, min_freq = 2)\n",
    "TRG.build_vocab(train_data, min_freq = 2)\n",
    "print(f\"Unique tokens in source (fr) vocabulary: {len(SRC.vocab)}\")\n",
    "print(f\"Unique tokens in target (en) vocabulary: {len(TRG.vocab)}\")"
   ]
  },
  {
   "cell_type": "code",
   "execution_count": 12,
   "metadata": {},
   "outputs": [],
   "source": [
    "train_iterator, valid_iterator, test_iterator = BucketIterator.splits((train_data, valid_data, test_data), \n",
    "                                                                      batch_size = BATCH_SIZE, device = device,\n",
    "                                                                     sort_within_batch=True, sort_key=lambda x: len(x.src))"
   ]
  },
  {
   "cell_type": "code",
   "execution_count": 13,
   "metadata": {},
   "outputs": [],
   "source": [
    "from torch.nn.utils.rnn import pad_packed_sequence, pack_padded_sequence\n",
    "\n",
    "\n",
    "class Encoder(nn.Module):\n",
    "    def __init__(self, input_dim, emb_dim, enc_hid_dim, dec_hid_dim, n_layers, dropout):\n",
    "        # input_dim == vocab_size of src\n",
    "        super().__init__()\n",
    "        self.enc_hid_dim = enc_hid_dim\n",
    "        self.n_layers = n_layers\n",
    "        self.embedding = nn.Embedding(input_dim, emb_dim)\n",
    "        self.rnn = nn.GRU(emb_dim, enc_hid_dim, n_layers, dropout=0.3, bidirectional=True, batch_first=True)\n",
    "        self.dropout = nn.Dropout(dropout)\n",
    "        self.fc = nn.Linear(enc_hid_dim * 2, dec_hid_dim)\n",
    "\n",
    "    def forward(self, src, input_lengths):  # src = [src len, batch size]\n",
    "        embedded = self.dropout(self.embedding(src))  # embedded = [src len, batch size, emb dim]\n",
    "        # print(embedded.shape)\n",
    "        packed_input = pack_padded_sequence(embedded, input_lengths.tolist(), batch_first=True, enforce_sorted=True)\n",
    "        packed_output, hidden = self.rnn(packed_input)  \n",
    "        outputs, lengths = pad_packed_sequence(packed_output, batch_first=True)\n",
    "        # print(hidden.shape)\n",
    "        # torch.Size([2(n_layers) * 2(bidirectional), 64, 512])\n",
    "        # hidden = [n layers * n directions, batch size, hid dim]\n",
    "        batch_size = outputs.shape[0]\n",
    "        \n",
    "        hidden = hidden.view(self.n_layers, 2, batch_size, self.enc_hid_dim)\n",
    "        # print(hidden.shape)\n",
    "\n",
    "\n",
    "        # (n_layers, direction, batch, hidden_size)\n",
    "        hid_cat = torch.cat((hidden[:, 0, :, :], hidden[:, 1, :, :]), dim=-1).squeeze()\n",
    "        # (1, 1, batch, hidden_size) + (1, 1, batch, hidden_size) -> (1, 1, batch, hidden_size * 2) -> (2, batch, hidden_size*2)\n",
    "        hidden = torch.tanh(self.fc(hid_cat))\n",
    "        # print(hidden.shape)\n",
    "        # torch.Size([64, 512])\n",
    "        \n",
    "        # outputs=[src len, batch size, hid dim * n directions]\n",
    "        # outputs are always from the top hidden layer\n",
    "        \n",
    "        #outputs = [src len, batch size, enc hid dim * 2]\n",
    "        #hidden = [batch size, dec hid dim]\n",
    "        return outputs, hidden"
   ]
  },
  {
   "cell_type": "code",
   "execution_count": 14,
   "metadata": {},
   "outputs": [
    {
     "data": {
      "text/plain": [
       "'class Encoder(nn.Module):\\n    def __init__(self, input_dim, emb_dim, enc_hid_dim, dec_hid_dim, dropout):\\n        super().__init__()\\n        self.embedding = nn.Embedding(input_dim, emb_dim)\\n        self.rnn = nn.GRU(emb_dim, enc_hid_dim, bidirectional = True)\\n        self.fc = nn.Linear(enc_hid_dim * 2, dec_hid_dim)\\n        self.dropout = nn.Dropout(dropout)\\n        \\n    def forward(self, src):\\n        #src = [src len, batch size]\\n        embedded = self.dropout(self.embedding(src))\\n        #embedded = [src len, batch size, emb dim]\\n        \\n        outputs, hidden = self.rnn(embedded)\\n        #outputs = [src len, batch size, hid dim * num directions]\\n        #hidden = [n layers * num directions, batch size, hid dim]\\n        \\n        #hidden is stacked [forward_1, backward_1, forward_2, backward_2, ...]\\n        #outputs are always from the last layer\\n        \\n        #hidden [-2, :, : ] is the last of the forwards RNN \\n        #hidden [-1, :, : ] is the last of the backwards RNN\\n        \\n        #initial decoder hidden is final hidden state of the forwards and backwards \\n        #  encoder RNNs fed through a linear layer\\n        hidden = torch.tanh(self.fc(torch.cat((hidden[-2,:,:], hidden[-1,:,:]), dim = 1)))\\n        \\n        #outputs = [src len, batch size, enc hid dim * 2]\\n        #hidden = [batch size, dec hid dim]\\n        \\n        return outputs, hidden'"
      ]
     },
     "execution_count": 14,
     "metadata": {},
     "output_type": "execute_result"
    }
   ],
   "source": [
    "\"\"\"class Encoder(nn.Module):\n",
    "    def __init__(self, input_dim, emb_dim, enc_hid_dim, dec_hid_dim, dropout):\n",
    "        super().__init__()\n",
    "        self.embedding = nn.Embedding(input_dim, emb_dim)\n",
    "        self.rnn = nn.GRU(emb_dim, enc_hid_dim, bidirectional = True)\n",
    "        self.fc = nn.Linear(enc_hid_dim * 2, dec_hid_dim)\n",
    "        self.dropout = nn.Dropout(dropout)\n",
    "        \n",
    "    def forward(self, src):\n",
    "        #src = [src len, batch size]\n",
    "        embedded = self.dropout(self.embedding(src))\n",
    "        #embedded = [src len, batch size, emb dim]\n",
    "        \n",
    "        outputs, hidden = self.rnn(embedded)\n",
    "        #outputs = [src len, batch size, hid dim * num directions]\n",
    "        #hidden = [n layers * num directions, batch size, hid dim]\n",
    "        \n",
    "        #hidden is stacked [forward_1, backward_1, forward_2, backward_2, ...]\n",
    "        #outputs are always from the last layer\n",
    "        \n",
    "        #hidden [-2, :, : ] is the last of the forwards RNN \n",
    "        #hidden [-1, :, : ] is the last of the backwards RNN\n",
    "        \n",
    "        #initial decoder hidden is final hidden state of the forwards and backwards \n",
    "        #  encoder RNNs fed through a linear layer\n",
    "        hidden = torch.tanh(self.fc(torch.cat((hidden[-2,:,:], hidden[-1,:,:]), dim = 1)))\n",
    "        \n",
    "        #outputs = [src len, batch size, enc hid dim * 2]\n",
    "        #hidden = [batch size, dec hid dim]\n",
    "        \n",
    "        return outputs, hidden\"\"\""
   ]
  },
  {
   "cell_type": "code",
   "execution_count": 15,
   "metadata": {},
   "outputs": [],
   "source": [
    "class Attention(nn.Module):\n",
    "    def __init__(self, enc_hid_dim, n_layers, dec_hid_dim):\n",
    "        super().__init__()\n",
    "        self.attn = nn.Linear((enc_hid_dim * 2) + dec_hid_dim, dec_hid_dim * n_layers)\n",
    "        self.v = nn.Linear(dec_hid_dim * n_layers, 1, bias = False)\n",
    "        \n",
    "    def forward(self, hidden, encoder_outputs):\n",
    "        #hidden = [batch size, dec hid dim]\n",
    "        #encoder_outputs = [src len, batch size, enc hid dim * 2]\n",
    "        # batch_size, src_len = encoder_outputs.shape\n",
    "        batch_size = encoder_outputs.shape[0]\n",
    "        src_len = encoder_outputs.shape[1]\n",
    "        \n",
    "        # print(hidden.shape)\n",
    "        # torch.Size([2, 64, 512])\n",
    "        hidden = hidden[-1, :, :]\n",
    "        # print(hidden.shape)\n",
    "        hidden = hidden.reshape(batch_size, -1)\n",
    "        # print(hidden.shape)\n",
    "        \n",
    "        #repeat decoder hidden state src_len times\n",
    "        hidden = hidden.unsqueeze(1).repeat(1, src_len, 1)\n",
    "        # encoder_outputs = encoder_outputs.permute(1, 0, 2)\n",
    "        # hidden = [batch size, src len, dec hid dim]\n",
    "        # encoder_outputs = [batch size, src len, enc hid dim * 2]\n",
    "        # print(hidden.shape, encoder_outputs.shape)\n",
    "        \n",
    "        # print(hidden.shape)\n",
    "        # print(encoder_outputs.shape)\n",
    "        # [batch, len, hidden]\n",
    "        # [64, 10, 1024]\n",
    "        attn_input = torch.cat((hidden, encoder_outputs), dim = 2)\n",
    "        # print(attn_input.shape)\n",
    "        # [batch, len, 1536 (1024 + 512)]\n",
    "        \n",
    "        energy = torch.tanh(self.attn(attn_input)) \n",
    "        #energy = [batch size, src len, dec hid dim]\n",
    "\n",
    "        attention = self.v(energy).squeeze(2)\n",
    "        #attention= [batch size, src len]\n",
    "        \n",
    "        return F.softmax(attention, dim=1)"
   ]
  },
  {
   "cell_type": "code",
   "execution_count": 16,
   "metadata": {},
   "outputs": [],
   "source": [
    "class Decoder(nn.Module):\n",
    "    def __init__(self, output_dim, emb_dim, enc_hid_dim, dec_hid_dim, n_layers, dropout, attention):\n",
    "        super().__init__()\n",
    "        self.dec_hid_dim = dec_hid_dim\n",
    "        self.n_layers = n_layers\n",
    "        self.output_dim = output_dim\n",
    "        self.attention = attention\n",
    "        self.embedding = nn.Embedding(output_dim, emb_dim)\n",
    "        self.rnn = nn.GRU((enc_hid_dim * 2) + emb_dim, dec_hid_dim, n_layers, batch_first=True, dropout=.3)\n",
    "        self.fc_out = nn.Linear((enc_hid_dim * 2) + dec_hid_dim + emb_dim, output_dim)\n",
    "        self.dropout = nn.Dropout(dropout)\n",
    "\n",
    "    def forward(self, input, hidden, encoder_outputs):\n",
    "        #input = [batch size]\n",
    "        #hidden = [batch size, dec hid dim]\n",
    "        #encoder_outputs = [src len, batch size, enc hid dim * 2]\n",
    "\n",
    "        # hidden = [n layers * n directions, batch size, hid dim]\n",
    "        # cell = [n layers * n directions, batch size, hid dim]\n",
    "\n",
    "        # n directions in the decoder will both always be 1, therefore:\n",
    "        # hidden = [n layers, batch size, hid dim]\n",
    "        # context = [n layers, batch size, hid dim]\n",
    "\n",
    "        #input = [batch size]\n",
    "        \n",
    "        embedded = self.dropout(self.embedding(input))\n",
    "        #embedded = [batch size, emb dim]\n",
    "        # print(hidden.shape)\n",
    "        # print('input_attn')\n",
    "        a = self.attention(hidden, encoder_outputs)\n",
    "        #a = [batch size, src len]\n",
    "        a = a.unsqueeze(1)\n",
    "        #a = [batch size, 1, src len]\n",
    "        #encoder_outputs = [batch size, src len, enc hid dim * 2]\n",
    "        # print(a.shape, encoder_outputs.shape)\n",
    "        # torch.Size([64, 1, 10]) torch.Size([64, 10, 1024])\n",
    "        \n",
    "        weighted = torch.bmm(a, encoder_outputs)\n",
    "        #weighted = [batch size, 1, enc hid dim * 2]\n",
    "        # [64, 1, 1024]\n",
    "        \n",
    "        embedded = embedded.unsqueeze(1)\n",
    "        # [batch_size, 1, emb_dim]\n",
    "        # print(embedded.shape, weighted.shape)\n",
    "        # torch.Size([64, 1, 256]) torch.Size([64, 1, 1024])\n",
    "        rnn_input = torch.cat((embedded, weighted), dim = 2)\n",
    "        #rnn_input = [batch size, 1, (enc hid dim * 2) + emb dim]\n",
    "        \n",
    "        # rnn_input [batch_size, 1, (1024) + xxx]\n",
    "            \n",
    "        output, hidden = self.rnn(rnn_input, hidden)\n",
    "        last_hidden = hidden[-1, :, :].unsqueeze(1)\n",
    "        # print(hidden.shape)\n",
    "        # hidden = hidden.permute(1, 0, 2)\n",
    "        # print(output.shape)\n",
    "        #output = [seq len, batch size, dec hid dim * n directions]\n",
    "        #hidden = [n layers * n directions, batch size, dec hid dim]\n",
    "        \n",
    "        #seq len, n layers and n directions will always be 1 in this decoder, therefore:\n",
    "        #output = [1, batch size, dec hid dim]\n",
    "        #hidden = [1, batch size, dec hid dim]\n",
    "        #this also means that output == hidden\n",
    "        assert (output == last_hidden).all()\n",
    "        \n",
    "        embedded = embedded.squeeze(1)\n",
    "        output = output.squeeze(1)\n",
    "        weighted = weighted.squeeze(1)\n",
    "        # print(embedded.shape)\n",
    "        # print(output.shape)\n",
    "        # print(weighted.shape)\n",
    "\n",
    "        # torch.Size([64, 1, 256])\n",
    "        # torch.Size([64, 1, 512])\n",
    "        # torch.Size([64, 1, 1024])\n",
    "        \n",
    "        prediction = self.fc_out(torch.cat((output, weighted, embedded), dim = -1))\n",
    "        #prediction = [batch size, output dim]\n",
    "        \n",
    "        return prediction, hidden.squeeze(0)\n"
   ]
  },
  {
   "cell_type": "code",
   "execution_count": 17,
   "metadata": {},
   "outputs": [
    {
     "data": {
      "text/plain": [
       "'class Decoder(nn.Module):\\n    def __init__(self, output_dim, emb_dim, enc_hid_dim, dec_hid_dim, dropout, attention):\\n        super().__init__()\\n\\n        self.output_dim = output_dim\\n        self.attention = attention\\n        self.embedding = nn.Embedding(output_dim, emb_dim)\\n        self.rnn = nn.GRU((enc_hid_dim * 2) + emb_dim, dec_hid_dim)\\n        self.fc_out = nn.Linear((enc_hid_dim * 2) + dec_hid_dim + emb_dim, output_dim)\\n        self.dropout = nn.Dropout(dropout)\\n        \\n    def forward(self, input, hidden, encoder_outputs):\\n        #input = [batch size]\\n        #hidden = [batch size, dec hid dim]\\n        #encoder_outputs = [src len, batch size, enc hid dim * 2]\\n        \\n        input = input.unsqueeze(0)\\n        #input = [1, batch size]\\n        \\n        embedded = self.dropout(self.embedding(input))\\n        #embedded = [1, batch size, emb dim]\\n        \\n        a = self.attention(hidden, encoder_outputs)\\n        #a = [batch size, src len]\\n        a = a.unsqueeze(1)\\n        #a = [batch size, 1, src len]\\n        \\n        encoder_outputs = encoder_outputs.permute(1, 0, 2)\\n        #encoder_outputs = [batch size, src len, enc hid dim * 2]\\n        \\n        weighted = torch.bmm(a, encoder_outputs)\\n        #weighted = [batch size, 1, enc hid dim * 2]\\n        \\n        weighted = weighted.permute(1, 0, 2)\\n        #weighted = [1, batch size, enc hid dim * 2]\\n        \\n        rnn_input = torch.cat((embedded, weighted), dim = 2)\\n        #rnn_input = [1, batch size, (enc hid dim * 2) + emb dim]\\n            \\n        output, hidden = self.rnn(rnn_input, hidden.unsqueeze(0))\\n        #output = [seq len, batch size, dec hid dim * n directions]\\n        #hidden = [n layers * n directions, batch size, dec hid dim]\\n        \\n        #seq len, n layers and n directions will always be 1 in this decoder, therefore:\\n        #output = [1, batch size, dec hid dim]\\n        #hidden = [1, batch size, dec hid dim]\\n        #this also means that output == hidden\\n        assert (output == hidden).all()\\n        \\n        embedded = embedded.squeeze(0)\\n        output = output.squeeze(0)\\n        weighted = weighted.squeeze(0)\\n        \\n        prediction = self.fc_out(torch.cat((output, weighted, embedded), dim = 1))\\n        #prediction = [batch size, output dim]\\n        \\n        return prediction, hidden.squeeze(0)'"
      ]
     },
     "execution_count": 17,
     "metadata": {},
     "output_type": "execute_result"
    }
   ],
   "source": [
    "\n",
    "\"\"\"class Decoder(nn.Module):\n",
    "    def __init__(self, output_dim, emb_dim, enc_hid_dim, dec_hid_dim, dropout, attention):\n",
    "        super().__init__()\n",
    "\n",
    "        self.output_dim = output_dim\n",
    "        self.attention = attention\n",
    "        self.embedding = nn.Embedding(output_dim, emb_dim)\n",
    "        self.rnn = nn.GRU((enc_hid_dim * 2) + emb_dim, dec_hid_dim)\n",
    "        self.fc_out = nn.Linear((enc_hid_dim * 2) + dec_hid_dim + emb_dim, output_dim)\n",
    "        self.dropout = nn.Dropout(dropout)\n",
    "        \n",
    "    def forward(self, input, hidden, encoder_outputs):\n",
    "        #input = [batch size]\n",
    "        #hidden = [batch size, dec hid dim]\n",
    "        #encoder_outputs = [src len, batch size, enc hid dim * 2]\n",
    "        \n",
    "        input = input.unsqueeze(0)\n",
    "        #input = [1, batch size]\n",
    "        \n",
    "        embedded = self.dropout(self.embedding(input))\n",
    "        #embedded = [1, batch size, emb dim]\n",
    "        \n",
    "        a = self.attention(hidden, encoder_outputs)\n",
    "        #a = [batch size, src len]\n",
    "        a = a.unsqueeze(1)\n",
    "        #a = [batch size, 1, src len]\n",
    "        \n",
    "        encoder_outputs = encoder_outputs.permute(1, 0, 2)\n",
    "        #encoder_outputs = [batch size, src len, enc hid dim * 2]\n",
    "        \n",
    "        weighted = torch.bmm(a, encoder_outputs)\n",
    "        #weighted = [batch size, 1, enc hid dim * 2]\n",
    "        \n",
    "        weighted = weighted.permute(1, 0, 2)\n",
    "        #weighted = [1, batch size, enc hid dim * 2]\n",
    "        \n",
    "        rnn_input = torch.cat((embedded, weighted), dim = 2)\n",
    "        #rnn_input = [1, batch size, (enc hid dim * 2) + emb dim]\n",
    "            \n",
    "        output, hidden = self.rnn(rnn_input, hidden.unsqueeze(0))\n",
    "        #output = [seq len, batch size, dec hid dim * n directions]\n",
    "        #hidden = [n layers * n directions, batch size, dec hid dim]\n",
    "        \n",
    "        #seq len, n layers and n directions will always be 1 in this decoder, therefore:\n",
    "        #output = [1, batch size, dec hid dim]\n",
    "        #hidden = [1, batch size, dec hid dim]\n",
    "        #this also means that output == hidden\n",
    "        assert (output == hidden).all()\n",
    "        \n",
    "        embedded = embedded.squeeze(0)\n",
    "        output = output.squeeze(0)\n",
    "        weighted = weighted.squeeze(0)\n",
    "        \n",
    "        prediction = self.fc_out(torch.cat((output, weighted, embedded), dim = 1))\n",
    "        #prediction = [batch size, output dim]\n",
    "        \n",
    "        return prediction, hidden.squeeze(0)\"\"\""
   ]
  },
  {
   "cell_type": "code",
   "execution_count": 18,
   "metadata": {},
   "outputs": [],
   "source": [
    "class Seq2Seq(nn.Module):\n",
    "    def __init__(self, encoder, decoder, device, teacher_forcing=0.3):\n",
    "        super().__init__()\n",
    "        self.encoder = encoder\n",
    "        self.decoder = decoder\n",
    "        self.device = device\n",
    "        self.teacher_forcing_ratio = teacher_forcing\n",
    "        assert encoder.enc_hid_dim == decoder.dec_hid_dim, \"Hidden dimensions of encoder and decoder must be equal!\"\n",
    "        assert encoder.n_layers == decoder.n_layers, \"Encoder and decoder must have equal number of layers!\"\n",
    "\n",
    "    def forward(self, src_batch, trg_batch, is_train=True):\n",
    "        # teacher_forcing_ratio is probability to use teacher forcing\n",
    "        # e.g. if teacher_forcing_ratio is 0.75 we use ground-truth inputs 75% of the time\n",
    "        src, src_length = src_batch\n",
    "        trg, trg_length = trg_batch\n",
    "        # print('s', src.shape)  [batch, length]\n",
    "        # print('t', trg.shape)  [batch, length]\n",
    "        batch_size, trg_len = trg.shape\n",
    "        trg_vocab_size = self.decoder.output_dim\n",
    "\n",
    "        # tensor to store decoder outputs\n",
    "        # last hidden state of the encoder is used as the initial hidden state of the decoder\n",
    "        encoder_outputs, hidden = self.encoder(src, src_length)\n",
    "                \n",
    "        #first input to the decoder is the <sos> tokens\n",
    "        dec_input = trg[:, 0]\n",
    "\n",
    "        outputs = torch.zeros(1, batch_size, trg_vocab_size).to(self.device)\n",
    "        search_eos = torch.zeros(batch_size, 1).to(self.device)\n",
    "        t = 0\n",
    "        # print(trg.shape)\n",
    "        while loop:\n",
    "            # print('di', dec_input.shape, hidden.shape)\n",
    "            # insert input token embedding, previous hidden and previous cell states\n",
    "            # receive output tensor (predictions) and new hidden and cell states\n",
    "            output, hidden = self.decoder(dec_input, hidden, encoder_outputs)\n",
    "            # place predictions in a tensor holding predictions for each token\n",
    "            output = output.unsqueeze(0)\n",
    "            # print(outputs.shape, output.shape)\n",
    "            outputs = torch.cat([outputs, output], dim=0)  # [len, batch, feature]\n",
    "            # outputs[t] = output\n",
    "            # decide if we are going to use teacher forcing or not\n",
    "            teacher_force = random.random() < self.teacher_forcing_ratio\n",
    "            # get the highest predicted token from our predictions\n",
    "            top1 = output.squeeze().argmax(1)\n",
    "            # if teacher forcing, use actual next token as next input\n",
    "            # if not, use predicted token\n",
    "            if t+2 == trg.shape[1]:\n",
    "                break\n",
    "            t += 1\n",
    "            search_eos = torch.logical_or(search_eos, top1 == TRG_EOS_IDX)\n",
    "            if torch.all(search_eos):\n",
    "                padding = torch.zeros((trg_len - outputs.shape[0], outputs.shape[1], outputs.shape[2])).to(self.device)\n",
    "                padding.fill_(TRG_PAD_IDX)\n",
    "                outputs = torch.cat([outputs, padding], dim=0)\n",
    "                break\n",
    "                # loop = False\n",
    "            if is_train:\n",
    "                dec_input = trg[:, t] if teacher_force else top1\n",
    "            else:\n",
    "                dec_input = top1\n",
    "            # print(trg[:, t].shape, top1.shape, dec_input.shape)  [batch_size]\n",
    "        # print(outputs.shape, trg.shape)\n",
    "        return outputs.permute(1, 0, 2)\n"
   ]
  },
  {
   "cell_type": "code",
   "execution_count": null,
   "metadata": {},
   "outputs": [],
   "source": []
  },
  {
   "cell_type": "code",
   "execution_count": 19,
   "metadata": {},
   "outputs": [
    {
     "data": {
      "text/plain": [
       "'class Seq2Seq(nn.Module):\\n    def __init__(self, encoder, decoder, device):\\n        super().__init__()\\n        self.encoder = encoder\\n        self.decoder = decoder\\n        self.device = device\\n        \\n    def forward(self, src, trg, teacher_forcing_ratio = 0.3):\\n        #src = [src len, batch size]\\n        #trg = [trg len, batch size]\\n        #teacher_forcing_ratio is probability to use teacher forcing\\n        #e.g. if teacher_forcing_ratio is 0.75 we use teacher forcing 75% of the time\\n        \\n        batch_size = src.shape[1]\\n        trg_len = trg.shape[0]\\n        trg_vocab_size = self.decoder.output_dim\\n        \\n        #tensor to store decoder outputs\\n        outputs = torch.zeros(trg_len, batch_size, trg_vocab_size).to(self.device)\\n        \\n        #encoder_outputs is all hidden states of the input sequence, back and forwards\\n        #hidden is the final forward and backward hidden states, passed through a linear layer\\n        encoder_outputs, hidden = self.encoder(src)\\n                \\n        #first input to the decoder is the <sos> tokens\\n        input = trg[0,:]\\n        \\n        for t in range(1, trg_len):\\n            \\n            #insert input token embedding, previous hidden state and all encoder hidden states\\n            #receive output tensor (predictions) and new hidden state\\n            output, hidden = self.decoder(input, hidden, encoder_outputs)\\n            \\n            #place predictions in a tensor holding predictions for each token\\n            outputs[t] = output\\n            \\n            #decide if we are going to use teacher forcing or not\\n            teacher_force = random.random() < teacher_forcing_ratio\\n            \\n            #get the highest predicted token from our predictions\\n            top1 = output.argmax(1) \\n            \\n            #if teacher forcing, use actual next token as next input\\n            #if not, use predicted token\\n            input = trg[t] if teacher_force else top1\\n\\n        return outputs'"
      ]
     },
     "execution_count": 19,
     "metadata": {},
     "output_type": "execute_result"
    }
   ],
   "source": [
    "\"\"\"class Seq2Seq(nn.Module):\n",
    "    def __init__(self, encoder, decoder, device):\n",
    "        super().__init__()\n",
    "        self.encoder = encoder\n",
    "        self.decoder = decoder\n",
    "        self.device = device\n",
    "        \n",
    "    def forward(self, src, trg, teacher_forcing_ratio = 0.3):\n",
    "        #src = [src len, batch size]\n",
    "        #trg = [trg len, batch size]\n",
    "        #teacher_forcing_ratio is probability to use teacher forcing\n",
    "        #e.g. if teacher_forcing_ratio is 0.75 we use teacher forcing 75% of the time\n",
    "        \n",
    "        batch_size = src.shape[1]\n",
    "        trg_len = trg.shape[0]\n",
    "        trg_vocab_size = self.decoder.output_dim\n",
    "        \n",
    "        #tensor to store decoder outputs\n",
    "        outputs = torch.zeros(trg_len, batch_size, trg_vocab_size).to(self.device)\n",
    "        \n",
    "        #encoder_outputs is all hidden states of the input sequence, back and forwards\n",
    "        #hidden is the final forward and backward hidden states, passed through a linear layer\n",
    "        encoder_outputs, hidden = self.encoder(src)\n",
    "                \n",
    "        #first input to the decoder is the <sos> tokens\n",
    "        input = trg[0,:]\n",
    "        \n",
    "        for t in range(1, trg_len):\n",
    "            \n",
    "            #insert input token embedding, previous hidden state and all encoder hidden states\n",
    "            #receive output tensor (predictions) and new hidden state\n",
    "            output, hidden = self.decoder(input, hidden, encoder_outputs)\n",
    "            \n",
    "            #place predictions in a tensor holding predictions for each token\n",
    "            outputs[t] = output\n",
    "            \n",
    "            #decide if we are going to use teacher forcing or not\n",
    "            teacher_force = random.random() < teacher_forcing_ratio\n",
    "            \n",
    "            #get the highest predicted token from our predictions\n",
    "            top1 = output.argmax(1) \n",
    "            \n",
    "            #if teacher forcing, use actual next token as next input\n",
    "            #if not, use predicted token\n",
    "            input = trg[t] if teacher_force else top1\n",
    "\n",
    "        return outputs\"\"\""
   ]
  },
  {
   "cell_type": "code",
   "execution_count": 20,
   "metadata": {},
   "outputs": [],
   "source": [
    "INPUT_DIM = len(SRC.vocab)\n",
    "OUTPUT_DIM = len(TRG.vocab)\n",
    "ENC_EMB_DIM = 256\n",
    "DEC_EMB_DIM = 256\n",
    "ENC_HID_DIM = 512\n",
    "DEC_HID_DIM = 512\n",
    "ENC_DROPOUT = 0.3\n",
    "DEC_DROPOUT = 0.3\n",
    "ENC_N_LAYER = 4\n",
    "DEC_N_LAYER = 4\n",
    "CLIP = 1\n",
    "\n",
    "attn = Attention(ENC_HID_DIM, ENC_N_LAYER, DEC_HID_DIM)\n",
    "enc = Encoder(INPUT_DIM, ENC_EMB_DIM, ENC_HID_DIM, DEC_HID_DIM, ENC_N_LAYER, ENC_DROPOUT)\n",
    "dec = Decoder(OUTPUT_DIM, DEC_EMB_DIM, ENC_HID_DIM, DEC_HID_DIM, DEC_N_LAYER, DEC_DROPOUT, attn)\n",
    "\n",
    "model = Seq2Seq(enc, dec, device).to(device)"
   ]
  },
  {
   "cell_type": "code",
   "execution_count": 21,
   "metadata": {},
   "outputs": [
    {
     "data": {
      "text/plain": [
       "Seq2Seq(\n",
       "  (encoder): Encoder(\n",
       "    (embedding): Embedding(6468, 256)\n",
       "    (rnn): GRU(256, 512, num_layers=4, batch_first=True, dropout=0.3, bidirectional=True)\n",
       "    (dropout): Dropout(p=0.3, inplace=False)\n",
       "    (fc): Linear(in_features=1024, out_features=512, bias=True)\n",
       "  )\n",
       "  (decoder): Decoder(\n",
       "    (attention): Attention(\n",
       "      (attn): Linear(in_features=1536, out_features=2048, bias=True)\n",
       "      (v): Linear(in_features=2048, out_features=1, bias=False)\n",
       "    )\n",
       "    (embedding): Embedding(5893, 256)\n",
       "    (rnn): GRU(1280, 512, num_layers=4, batch_first=True, dropout=0.3)\n",
       "    (fc_out): Linear(in_features=1792, out_features=5893, bias=True)\n",
       "    (dropout): Dropout(p=0.3, inplace=False)\n",
       "  )\n",
       ")"
      ]
     },
     "execution_count": 21,
     "metadata": {},
     "output_type": "execute_result"
    }
   ],
   "source": [
    "def init_weights(m):\n",
    "    for name, param in m.named_parameters():\n",
    "        if 'decoder.attention.v.weight' in name:\n",
    "            nn.init.constant_(param.data, 0)\n",
    "        elif 'weight' in name:\n",
    "            nn.init.normal_(param.data, mean=0, std=0.01)\n",
    "        else:\n",
    "            nn.init.constant_(param.data, 0)\n",
    "            \n",
    "model.apply(init_weights)"
   ]
  },
  {
   "cell_type": "code",
   "execution_count": 22,
   "metadata": {},
   "outputs": [
    {
     "name": "stdout",
     "output_type": "stream",
     "text": [
      "The model has 41,428,229 trainable parameters\n"
     ]
    }
   ],
   "source": [
    "def count_parameters(model):\n",
    "    return sum(p.numel() for p in model.parameters() if p.requires_grad)\n",
    "\n",
    "print(f'The model has {count_parameters(model):,} trainable parameters')"
   ]
  },
  {
   "cell_type": "code",
   "execution_count": 23,
   "metadata": {},
   "outputs": [],
   "source": [
    "optimizer = optim.Adam(model.parameters(), lr=0.0005)"
   ]
  },
  {
   "cell_type": "code",
   "execution_count": 24,
   "metadata": {},
   "outputs": [],
   "source": [
    "TRG_PAD_IDX = TRG.vocab.stoi[TRG.pad_token]\n",
    "TRG_EOS_IDX = TRG.vocab.stoi[TRG.eos_token]\n",
    "criterion = nn.CrossEntropyLoss(ignore_index = TRG_PAD_IDX)"
   ]
  },
  {
   "cell_type": "code",
   "execution_count": 25,
   "metadata": {},
   "outputs": [],
   "source": [
    "def idx2sent(index_tensor):  # index_tensor: [batch_size, trg_len]\n",
    "    index_tensor_cpu = index_tensor.to('cpu').tolist()\n",
    "    sentences = list()\n",
    "    for sent_idx in index_tensor_cpu:\n",
    "        sent = ' '.join([TRG.vocab.itos[i] for i in sent_idx])\n",
    "        sentences.append(sent.strip())\n",
    "    return sentences"
   ]
  },
  {
   "cell_type": "code",
   "execution_count": 26,
   "metadata": {},
   "outputs": [],
   "source": [
    "def get_bleu_simple(sys, ref):\n",
    "    int2char = lambda x: ' '.join([str(xx) for xx in x])\n",
    "    sys_cpu = sys.to('cpu').tolist()\n",
    "    ref_cpu = ref.to('cpu').tolist()\n",
    "    sys_cpu_list = [int2char(s) for s in sys_cpu]\n",
    "    ref_cpu_list = [int2char(s) for s in ref_cpu]\n",
    "    bleu = corpus_bleu(sys_cpu_list, [ref_cpu_list])\n",
    "    return bleu.score"
   ]
  },
  {
   "cell_type": "code",
   "execution_count": 27,
   "metadata": {},
   "outputs": [],
   "source": [
    "def train_epoch(model, epoch, iterator, optimizer, criterion, orig_path=None, pred_path=None):\n",
    "    model.train()\n",
    "    epoch_loss = 0\n",
    "    epoch_bleu = 0\n",
    "    epoch_target = list()\n",
    "    epoch_pred = list()\n",
    "    for i, batch in enumerate(tqdm(iterator)):\n",
    "        bsrc = batch.src\n",
    "        btrg = batch.trg\n",
    "        trg, _ = btrg  # trg = [trg len, batch size]\n",
    "        # print(bsrc[0].shape, btrg[0].shape)\n",
    "        optimizer.zero_grad()\n",
    "        output = model(bsrc, btrg, is_train=True)  # output = [batch size, trg len, output dim]\n",
    "        # print(output.shape)\n",
    "        output_dim = output.shape[-1]\n",
    "        output = output[:, 1:]\n",
    "        output_accumulated = output.reshape(-1, output_dim)  # output = [(trg len - 1) * batch size, output dim]\n",
    "        output_word = torch.argmax(output, dim=-1)\n",
    "        trg = trg[:, 1:]\n",
    "        trg_accumulated = trg.reshape(-1)  # trg = [(trg len - 1) * batch size]\n",
    "        # print(output.shape, trg.shape)\n",
    "        bleu = get_bleu_simple(output_word, trg)\n",
    "        loss = criterion(output_accumulated, trg_accumulated)\n",
    "        loss.backward()\n",
    "        torch.nn.utils.clip_grad_norm_(model.parameters(), CLIP)\n",
    "        optimizer.step()\n",
    "        epoch_loss += loss.item()\n",
    "        epoch_bleu += bleu\n",
    "        batch_orig_sent = idx2sent(trg)\n",
    "        batch_pred_sent = idx2sent(output_word)\n",
    "        epoch_target += batch_orig_sent\n",
    "        epoch_pred += batch_pred_sent\n",
    "    if orig_path is not None and pred_path is not None:\n",
    "        simple_writer(orig_path.replace('.txt', f'_ep_{str(epoch).zfill(2)}.txt'), epoch_target)\n",
    "        simple_writer(pred_path.replace('.txt', f'_ep_{str(epoch).zfill(2)}.txt'), epoch_pred)\n",
    "    return epoch_loss / len(iterator), epoch_bleu / len(iterator)"
   ]
  },
  {
   "cell_type": "code",
   "execution_count": 28,
   "metadata": {},
   "outputs": [],
   "source": [
    "def evaluate_epoch(model, iterator, criterion, epoch=0, orig_path=None, pred_path=None):\n",
    "    model.eval()\n",
    "    epoch_loss = 0\n",
    "    epoch_bleu = 0\n",
    "    epoch_target = list()\n",
    "    epoch_pred = list()\n",
    "    with torch.no_grad():\n",
    "        for i, batch in enumerate(tqdm(iterator)):\n",
    "            bsrc = batch.src\n",
    "            btrg = batch.trg  # trg = [trg len, batch size]\n",
    "            trg, _ = btrg\n",
    "            output = model(bsrc, btrg, is_train=False)  # output = [batch size, trg len, output dim]\n",
    "            # print(output.shape, trg.shape)\n",
    "            output_dim = output.shape[-1]\n",
    "            output = output[:, 1:]\n",
    "            output_accumulated = output.reshape(-1, output_dim)  # output = [(trg len - 1) * batch size, output dim]\n",
    "            output_word = torch.argmax(output, dim=-1)\n",
    "            trg = trg[:, 1:]\n",
    "            trg_accumulated = trg.reshape(-1)  # trg = [(trg len - 1) * batch size]\n",
    "            loss = criterion(output_accumulated, trg_accumulated)\n",
    "            bleu = get_bleu_simple(output_word, trg)\n",
    "            epoch_loss += loss.item()\n",
    "            epoch_bleu += bleu\n",
    "\n",
    "            batch_orig_sent = idx2sent(trg)\n",
    "            batch_pred_sent = idx2sent(output_word)\n",
    "            epoch_target += batch_orig_sent\n",
    "            epoch_pred += batch_pred_sent\n",
    "    if orig_path is not None and pred_path is not None:\n",
    "        simple_writer(orig_path.replace('.txt', f'_ep_{str(epoch).zfill(2)}.txt'), epoch_target)\n",
    "        simple_writer(pred_path.replace('.txt', f'_ep_{str(epoch).zfill(2)}.txt'), epoch_pred)\n",
    "    return epoch_loss / len(iterator), epoch_bleu / len(iterator)"
   ]
  },
  {
   "cell_type": "code",
   "execution_count": 29,
   "metadata": {},
   "outputs": [],
   "source": [
    "def epoch_time(start_time, end_time):\n",
    "    elapsed_time = end_time - start_time\n",
    "    elapsed_mins = int(elapsed_time / 60)\n",
    "    elapsed_secs = int(elapsed_time - (elapsed_mins * 60))\n",
    "    return elapsed_mins, elapsed_secs"
   ]
  },
  {
   "cell_type": "code",
   "execution_count": 30,
   "metadata": {},
   "outputs": [],
   "source": [
    "train_sentence_output = \"/home/suin/study/03_attention/attention/output/train_orig.txt\"\n",
    "train_pred_sentence_output = \"/home/suin/study/03_attention/attention/output/train_pred.txt\"\n",
    "valid_sentence_output = \"/home/suin/study/03_attention/attention/output/valid_orig.txt\"\n",
    "valid_pred_sentence_output = \"/home/suin/study/03_attention/attention/output/valid_test.txt\"\n",
    "test_sentence_output = \"/home/suin/study/03_attention/attention/output/test_orig.txt\"\n",
    "test_pred_sentence_output = \"/home/suin/study/03_attention/attention/output/test_pred.txt\""
   ]
  },
  {
   "cell_type": "code",
   "execution_count": 31,
   "metadata": {},
   "outputs": [],
   "source": [
    "N_EPOCHS = 30\n",
    "loop = True\n",
    "model_path = \"/home/suin/study/03_attention/attention/output/tut3-model.pt\""
   ]
  },
  {
   "cell_type": "code",
   "execution_count": 32,
   "metadata": {},
   "outputs": [
    {
     "data": {
      "application/vnd.jupyter.widget-view+json": {
       "model_id": "4e953ae617104dff9a2b33a6e3c9c50e",
       "version_major": 2,
       "version_minor": 0
      },
      "text/plain": [
       "  0%|          | 0/454 [00:00<?, ?it/s]"
      ]
     },
     "metadata": {},
     "output_type": "display_data"
    },
    {
     "name": "stdout",
     "output_type": "stream",
     "text": [
      "29000 sentences are written\n",
      "29000 sentences are written\n"
     ]
    },
    {
     "data": {
      "application/vnd.jupyter.widget-view+json": {
       "model_id": "38192739ca0c41c3851698dcab92a942",
       "version_major": 2,
       "version_minor": 0
      },
      "text/plain": [
       "  0%|          | 0/16 [00:00<?, ?it/s]"
      ]
     },
     "metadata": {},
     "output_type": "display_data"
    },
    {
     "name": "stdout",
     "output_type": "stream",
     "text": [
      "1014 sentences are written\n",
      "1014 sentences are written\n",
      "epoch: 1 model get better valid loss 5.060 than inf\n",
      "Epoch: 01 | Time: 2m 0s\n",
      "\tTrain Loss: 5.472 | Train PPL: 238.023 | Train BLEU: 1.862\n",
      "\t Val. Loss: 5.060 |  Val. PPL: 157.666 |  Val. BLEU: 2.514\n"
     ]
    },
    {
     "data": {
      "application/vnd.jupyter.widget-view+json": {
       "model_id": "1af9961f0a024433b711615360b64f77",
       "version_major": 2,
       "version_minor": 0
      },
      "text/plain": [
       "  0%|          | 0/454 [00:00<?, ?it/s]"
      ]
     },
     "metadata": {},
     "output_type": "display_data"
    },
    {
     "name": "stdout",
     "output_type": "stream",
     "text": [
      "29000 sentences are written\n",
      "29000 sentences are written\n"
     ]
    },
    {
     "data": {
      "application/vnd.jupyter.widget-view+json": {
       "model_id": "7d8a56faf67745a894154efd498f2714",
       "version_major": 2,
       "version_minor": 0
      },
      "text/plain": [
       "  0%|          | 0/16 [00:00<?, ?it/s]"
      ]
     },
     "metadata": {},
     "output_type": "display_data"
    },
    {
     "name": "stdout",
     "output_type": "stream",
     "text": [
      "1014 sentences are written\n",
      "1014 sentences are written\n",
      "epoch: 2 model get better valid loss 4.757 than 5.060\n",
      "Epoch: 02 | Time: 2m 9s\n",
      "\tTrain Loss: 4.767 | Train PPL: 117.509 | Train BLEU: 2.551\n",
      "\t Val. Loss: 4.757 |  Val. PPL: 116.449 |  Val. BLEU: 2.486\n"
     ]
    },
    {
     "data": {
      "application/vnd.jupyter.widget-view+json": {
       "model_id": "a0ec977b03064fcc866a38a8e06e870a",
       "version_major": 2,
       "version_minor": 0
      },
      "text/plain": [
       "  0%|          | 0/454 [00:00<?, ?it/s]"
      ]
     },
     "metadata": {},
     "output_type": "display_data"
    },
    {
     "name": "stdout",
     "output_type": "stream",
     "text": [
      "29000 sentences are written\n",
      "29000 sentences are written\n"
     ]
    },
    {
     "data": {
      "application/vnd.jupyter.widget-view+json": {
       "model_id": "faf2f038c6c04aa28ab4e1971285ff1c",
       "version_major": 2,
       "version_minor": 0
      },
      "text/plain": [
       "  0%|          | 0/16 [00:00<?, ?it/s]"
      ]
     },
     "metadata": {},
     "output_type": "display_data"
    },
    {
     "name": "stdout",
     "output_type": "stream",
     "text": [
      "1014 sentences are written\n",
      "1014 sentences are written\n",
      "epoch: 3 model get better valid loss 4.626 than 4.757\n",
      "Epoch: 03 | Time: 2m 11s\n",
      "\tTrain Loss: 4.560 | Train PPL:  95.548 | Train BLEU: 2.752\n",
      "\t Val. Loss: 4.626 |  Val. PPL: 102.106 |  Val. BLEU: 3.208\n"
     ]
    },
    {
     "data": {
      "application/vnd.jupyter.widget-view+json": {
       "model_id": "feead5a1f0874b5ea9326a54fd34f3d7",
       "version_major": 2,
       "version_minor": 0
      },
      "text/plain": [
       "  0%|          | 0/454 [00:00<?, ?it/s]"
      ]
     },
     "metadata": {},
     "output_type": "display_data"
    },
    {
     "name": "stdout",
     "output_type": "stream",
     "text": [
      "29000 sentences are written\n",
      "29000 sentences are written\n"
     ]
    },
    {
     "data": {
      "application/vnd.jupyter.widget-view+json": {
       "model_id": "2b59663f0b244aca835a7860a6fb4b4e",
       "version_major": 2,
       "version_minor": 0
      },
      "text/plain": [
       "  0%|          | 0/16 [00:00<?, ?it/s]"
      ]
     },
     "metadata": {},
     "output_type": "display_data"
    },
    {
     "name": "stdout",
     "output_type": "stream",
     "text": [
      "1014 sentences are written\n",
      "1014 sentences are written\n",
      "epoch: 4 model get better valid loss 4.518 than 4.626\n",
      "Epoch: 04 | Time: 2m 13s\n",
      "\tTrain Loss: 4.388 | Train PPL:  80.454 | Train BLEU: 3.204\n",
      "\t Val. Loss: 4.518 |  Val. PPL:  91.614 |  Val. BLEU: 3.559\n"
     ]
    },
    {
     "data": {
      "application/vnd.jupyter.widget-view+json": {
       "model_id": "904893ba52994de4b1cb62319eee8059",
       "version_major": 2,
       "version_minor": 0
      },
      "text/plain": [
       "  0%|          | 0/454 [00:00<?, ?it/s]"
      ]
     },
     "metadata": {},
     "output_type": "display_data"
    },
    {
     "name": "stdout",
     "output_type": "stream",
     "text": [
      "29000 sentences are written\n",
      "29000 sentences are written\n"
     ]
    },
    {
     "data": {
      "application/vnd.jupyter.widget-view+json": {
       "model_id": "376756757323407d8e30858d38b8b61b",
       "version_major": 2,
       "version_minor": 0
      },
      "text/plain": [
       "  0%|          | 0/16 [00:00<?, ?it/s]"
      ]
     },
     "metadata": {},
     "output_type": "display_data"
    },
    {
     "name": "stdout",
     "output_type": "stream",
     "text": [
      "1014 sentences are written\n",
      "1014 sentences are written\n",
      "epoch: 5 model get better valid loss 4.476 than 4.518\n",
      "Epoch: 05 | Time: 2m 15s\n",
      "\tTrain Loss: 4.212 | Train PPL:  67.505 | Train BLEU: 3.687\n",
      "\t Val. Loss: 4.476 |  Val. PPL:  87.920 |  Val. BLEU: 3.646\n"
     ]
    },
    {
     "data": {
      "application/vnd.jupyter.widget-view+json": {
       "model_id": "abb5db66231d4794b63082a5b04ed128",
       "version_major": 2,
       "version_minor": 0
      },
      "text/plain": [
       "  0%|          | 0/454 [00:00<?, ?it/s]"
      ]
     },
     "metadata": {},
     "output_type": "display_data"
    },
    {
     "name": "stdout",
     "output_type": "stream",
     "text": [
      "29000 sentences are written\n",
      "29000 sentences are written\n"
     ]
    },
    {
     "data": {
      "application/vnd.jupyter.widget-view+json": {
       "model_id": "175b8f968ad6476f959b6fca3f850b32",
       "version_major": 2,
       "version_minor": 0
      },
      "text/plain": [
       "  0%|          | 0/16 [00:00<?, ?it/s]"
      ]
     },
     "metadata": {},
     "output_type": "display_data"
    },
    {
     "name": "stdout",
     "output_type": "stream",
     "text": [
      "1014 sentences are written\n",
      "1014 sentences are written\n",
      "epoch: 6 model get better valid loss 4.379 than 4.476\n",
      "Epoch: 06 | Time: 2m 17s\n",
      "\tTrain Loss: 4.066 | Train PPL:  58.350 | Train BLEU: 3.955\n",
      "\t Val. Loss: 4.379 |  Val. PPL:  79.795 |  Val. BLEU: 4.379\n"
     ]
    },
    {
     "data": {
      "application/vnd.jupyter.widget-view+json": {
       "model_id": "767111752ec84870aabbf71b66e2a98d",
       "version_major": 2,
       "version_minor": 0
      },
      "text/plain": [
       "  0%|          | 0/454 [00:00<?, ?it/s]"
      ]
     },
     "metadata": {},
     "output_type": "display_data"
    },
    {
     "name": "stdout",
     "output_type": "stream",
     "text": [
      "29000 sentences are written\n",
      "29000 sentences are written\n"
     ]
    },
    {
     "data": {
      "application/vnd.jupyter.widget-view+json": {
       "model_id": "d6b6f035ed614fda97f796685369f542",
       "version_major": 2,
       "version_minor": 0
      },
      "text/plain": [
       "  0%|          | 0/16 [00:00<?, ?it/s]"
      ]
     },
     "metadata": {},
     "output_type": "display_data"
    },
    {
     "name": "stdout",
     "output_type": "stream",
     "text": [
      "1014 sentences are written\n",
      "1014 sentences are written\n",
      "epoch: 7 model get better valid loss 4.291 than 4.379\n",
      "Epoch: 07 | Time: 2m 17s\n",
      "\tTrain Loss: 3.957 | Train PPL:  52.321 | Train BLEU: 4.388\n",
      "\t Val. Loss: 4.291 |  Val. PPL:  73.005 |  Val. BLEU: 4.840\n"
     ]
    },
    {
     "data": {
      "application/vnd.jupyter.widget-view+json": {
       "model_id": "ad4c0f0244e14396b3f18cf5fb6708fa",
       "version_major": 2,
       "version_minor": 0
      },
      "text/plain": [
       "  0%|          | 0/454 [00:00<?, ?it/s]"
      ]
     },
     "metadata": {},
     "output_type": "display_data"
    },
    {
     "name": "stdout",
     "output_type": "stream",
     "text": [
      "29000 sentences are written\n",
      "29000 sentences are written\n"
     ]
    },
    {
     "data": {
      "application/vnd.jupyter.widget-view+json": {
       "model_id": "6da5452fcb1144728dfaf2156cd321c5",
       "version_major": 2,
       "version_minor": 0
      },
      "text/plain": [
       "  0%|          | 0/16 [00:00<?, ?it/s]"
      ]
     },
     "metadata": {},
     "output_type": "display_data"
    },
    {
     "name": "stdout",
     "output_type": "stream",
     "text": [
      "1014 sentences are written\n",
      "1014 sentences are written\n",
      "epoch: 8 model get better valid loss 4.182 than 4.291\n",
      "Epoch: 08 | Time: 2m 18s\n",
      "\tTrain Loss: 3.807 | Train PPL:  45.012 | Train BLEU: 4.984\n",
      "\t Val. Loss: 4.182 |  Val. PPL:  65.522 |  Val. BLEU: 5.460\n"
     ]
    },
    {
     "data": {
      "application/vnd.jupyter.widget-view+json": {
       "model_id": "05bb1a71fdec4db4a1e8cf6ac5668df3",
       "version_major": 2,
       "version_minor": 0
      },
      "text/plain": [
       "  0%|          | 0/454 [00:00<?, ?it/s]"
      ]
     },
     "metadata": {},
     "output_type": "display_data"
    },
    {
     "name": "stdout",
     "output_type": "stream",
     "text": [
      "29000 sentences are written\n",
      "29000 sentences are written\n"
     ]
    },
    {
     "data": {
      "application/vnd.jupyter.widget-view+json": {
       "model_id": "b94d8ebf58794d3a80ce876967cba954",
       "version_major": 2,
       "version_minor": 0
      },
      "text/plain": [
       "  0%|          | 0/16 [00:00<?, ?it/s]"
      ]
     },
     "metadata": {},
     "output_type": "display_data"
    },
    {
     "name": "stdout",
     "output_type": "stream",
     "text": [
      "1014 sentences are written\n",
      "1014 sentences are written\n",
      "epoch: 9 model get better valid loss 4.130 than 4.182\n",
      "Epoch: 09 | Time: 2m 19s\n",
      "\tTrain Loss: 3.665 | Train PPL:  39.064 | Train BLEU: 5.853\n",
      "\t Val. Loss: 4.130 |  Val. PPL:  62.179 |  Val. BLEU: 6.165\n"
     ]
    },
    {
     "data": {
      "application/vnd.jupyter.widget-view+json": {
       "model_id": "bc47b450a2d74a5d8d29db494099339b",
       "version_major": 2,
       "version_minor": 0
      },
      "text/plain": [
       "  0%|          | 0/454 [00:00<?, ?it/s]"
      ]
     },
     "metadata": {},
     "output_type": "display_data"
    },
    {
     "name": "stdout",
     "output_type": "stream",
     "text": [
      "29000 sentences are written\n",
      "29000 sentences are written\n"
     ]
    },
    {
     "data": {
      "application/vnd.jupyter.widget-view+json": {
       "model_id": "8512af17919342f6804ab9e749b4b514",
       "version_major": 2,
       "version_minor": 0
      },
      "text/plain": [
       "  0%|          | 0/16 [00:00<?, ?it/s]"
      ]
     },
     "metadata": {},
     "output_type": "display_data"
    },
    {
     "name": "stdout",
     "output_type": "stream",
     "text": [
      "1014 sentences are written\n",
      "1014 sentences are written\n",
      "epoch: 10 model get better valid loss 4.014 than 4.130\n",
      "Epoch: 10 | Time: 2m 19s\n",
      "\tTrain Loss: 3.546 | Train PPL:  34.658 | Train BLEU: 6.681\n",
      "\t Val. Loss: 4.014 |  Val. PPL:  55.343 |  Val. BLEU: 7.016\n"
     ]
    },
    {
     "data": {
      "application/vnd.jupyter.widget-view+json": {
       "model_id": "11353c44fa0b4b2f8dadb67937f39c3e",
       "version_major": 2,
       "version_minor": 0
      },
      "text/plain": [
       "  0%|          | 0/454 [00:00<?, ?it/s]"
      ]
     },
     "metadata": {},
     "output_type": "display_data"
    },
    {
     "name": "stdout",
     "output_type": "stream",
     "text": [
      "29000 sentences are written\n",
      "29000 sentences are written\n"
     ]
    },
    {
     "data": {
      "application/vnd.jupyter.widget-view+json": {
       "model_id": "8b045cd2adec42f692d335cbf105db83",
       "version_major": 2,
       "version_minor": 0
      },
      "text/plain": [
       "  0%|          | 0/16 [00:00<?, ?it/s]"
      ]
     },
     "metadata": {},
     "output_type": "display_data"
    },
    {
     "name": "stdout",
     "output_type": "stream",
     "text": [
      "1014 sentences are written\n",
      "1014 sentences are written\n",
      "epoch: 11 model get better valid loss 3.891 than 4.014\n",
      "Epoch: 11 | Time: 2m 20s\n",
      "\tTrain Loss: 3.398 | Train PPL:  29.904 | Train BLEU: 7.592\n",
      "\t Val. Loss: 3.891 |  Val. PPL:  48.937 |  Val. BLEU: 8.209\n"
     ]
    },
    {
     "data": {
      "application/vnd.jupyter.widget-view+json": {
       "model_id": "dd654b5efa784ed889b24debd67fbf9c",
       "version_major": 2,
       "version_minor": 0
      },
      "text/plain": [
       "  0%|          | 0/454 [00:00<?, ?it/s]"
      ]
     },
     "metadata": {},
     "output_type": "display_data"
    },
    {
     "name": "stdout",
     "output_type": "stream",
     "text": [
      "29000 sentences are written\n",
      "29000 sentences are written\n"
     ]
    },
    {
     "data": {
      "application/vnd.jupyter.widget-view+json": {
       "model_id": "c6b85d48f1b941858e29189a7b217736",
       "version_major": 2,
       "version_minor": 0
      },
      "text/plain": [
       "  0%|          | 0/16 [00:00<?, ?it/s]"
      ]
     },
     "metadata": {},
     "output_type": "display_data"
    },
    {
     "name": "stdout",
     "output_type": "stream",
     "text": [
      "1014 sentences are written\n",
      "1014 sentences are written\n",
      "epoch: 12 model get better valid loss 3.868 than 3.891\n",
      "Epoch: 12 | Time: 2m 21s\n",
      "\tTrain Loss: 3.248 | Train PPL:  25.738 | Train BLEU: 8.578\n",
      "\t Val. Loss: 3.868 |  Val. PPL:  47.834 |  Val. BLEU: 8.421\n"
     ]
    },
    {
     "data": {
      "application/vnd.jupyter.widget-view+json": {
       "model_id": "3fc3162f553c43d58d5b2429172ea8d4",
       "version_major": 2,
       "version_minor": 0
      },
      "text/plain": [
       "  0%|          | 0/454 [00:00<?, ?it/s]"
      ]
     },
     "metadata": {},
     "output_type": "display_data"
    },
    {
     "name": "stdout",
     "output_type": "stream",
     "text": [
      "29000 sentences are written\n",
      "29000 sentences are written\n"
     ]
    },
    {
     "data": {
      "application/vnd.jupyter.widget-view+json": {
       "model_id": "7e3c92e27c474929b29a9dc7418921f8",
       "version_major": 2,
       "version_minor": 0
      },
      "text/plain": [
       "  0%|          | 0/16 [00:00<?, ?it/s]"
      ]
     },
     "metadata": {},
     "output_type": "display_data"
    },
    {
     "name": "stdout",
     "output_type": "stream",
     "text": [
      "1014 sentences are written\n",
      "1014 sentences are written\n",
      "epoch: 13 model get better valid loss 3.825 than 3.868\n",
      "Epoch: 13 | Time: 2m 21s\n",
      "\tTrain Loss: 3.148 | Train PPL:  23.282 | Train BLEU: 9.533\n",
      "\t Val. Loss: 3.825 |  Val. PPL:  45.841 |  Val. BLEU: 10.127\n"
     ]
    },
    {
     "data": {
      "application/vnd.jupyter.widget-view+json": {
       "model_id": "b27026b1f46e48b1a305b74e8c1f4e3b",
       "version_major": 2,
       "version_minor": 0
      },
      "text/plain": [
       "  0%|          | 0/454 [00:00<?, ?it/s]"
      ]
     },
     "metadata": {},
     "output_type": "display_data"
    },
    {
     "name": "stdout",
     "output_type": "stream",
     "text": [
      "29000 sentences are written\n",
      "29000 sentences are written\n"
     ]
    },
    {
     "data": {
      "application/vnd.jupyter.widget-view+json": {
       "model_id": "e81f3a398e0c43d7b05b492851a93754",
       "version_major": 2,
       "version_minor": 0
      },
      "text/plain": [
       "  0%|          | 0/16 [00:00<?, ?it/s]"
      ]
     },
     "metadata": {},
     "output_type": "display_data"
    },
    {
     "name": "stdout",
     "output_type": "stream",
     "text": [
      "1014 sentences are written\n",
      "1014 sentences are written\n",
      "epoch: 14 model get better valid loss 3.816 than 3.825\n",
      "Epoch: 14 | Time: 2m 22s\n",
      "\tTrain Loss: 3.006 | Train PPL:  20.206 | Train BLEU: 10.503\n",
      "\t Val. Loss: 3.816 |  Val. PPL:  45.418 |  Val. BLEU: 10.643\n"
     ]
    },
    {
     "data": {
      "application/vnd.jupyter.widget-view+json": {
       "model_id": "0b4e55d999e044e3940290b367ef5f63",
       "version_major": 2,
       "version_minor": 0
      },
      "text/plain": [
       "  0%|          | 0/454 [00:00<?, ?it/s]"
      ]
     },
     "metadata": {},
     "output_type": "display_data"
    },
    {
     "name": "stdout",
     "output_type": "stream",
     "text": [
      "29000 sentences are written\n",
      "29000 sentences are written\n"
     ]
    },
    {
     "data": {
      "application/vnd.jupyter.widget-view+json": {
       "model_id": "c07354fc8c1f406383481ab0faa8649c",
       "version_major": 2,
       "version_minor": 0
      },
      "text/plain": [
       "  0%|          | 0/16 [00:00<?, ?it/s]"
      ]
     },
     "metadata": {},
     "output_type": "display_data"
    },
    {
     "name": "stdout",
     "output_type": "stream",
     "text": [
      "1014 sentences are written\n",
      "1014 sentences are written\n",
      "epoch: 15 model get better valid loss 3.665 than 3.816\n",
      "Epoch: 15 | Time: 2m 23s\n",
      "\tTrain Loss: 2.881 | Train PPL:  17.824 | Train BLEU: 11.576\n",
      "\t Val. Loss: 3.665 |  Val. PPL:  39.063 |  Val. BLEU: 11.440\n"
     ]
    },
    {
     "data": {
      "application/vnd.jupyter.widget-view+json": {
       "model_id": "246fb446621540ce95d69b7b73759789",
       "version_major": 2,
       "version_minor": 0
      },
      "text/plain": [
       "  0%|          | 0/454 [00:00<?, ?it/s]"
      ]
     },
     "metadata": {},
     "output_type": "display_data"
    },
    {
     "name": "stdout",
     "output_type": "stream",
     "text": [
      "29000 sentences are written\n",
      "29000 sentences are written\n"
     ]
    },
    {
     "data": {
      "application/vnd.jupyter.widget-view+json": {
       "model_id": "9623abec6de74591a1d21e05b530ee21",
       "version_major": 2,
       "version_minor": 0
      },
      "text/plain": [
       "  0%|          | 0/16 [00:00<?, ?it/s]"
      ]
     },
     "metadata": {},
     "output_type": "display_data"
    },
    {
     "name": "stdout",
     "output_type": "stream",
     "text": [
      "1014 sentences are written\n",
      "1014 sentences are written\n",
      "epoch: 16 model get better valid loss 3.613 than 3.665\n",
      "Epoch: 16 | Time: 2m 23s\n",
      "\tTrain Loss: 2.774 | Train PPL:  16.024 | Train BLEU: 12.537\n",
      "\t Val. Loss: 3.613 |  Val. PPL:  37.070 |  Val. BLEU: 12.581\n"
     ]
    },
    {
     "data": {
      "application/vnd.jupyter.widget-view+json": {
       "model_id": "4cc399e19906483c90bef0dc80062c26",
       "version_major": 2,
       "version_minor": 0
      },
      "text/plain": [
       "  0%|          | 0/454 [00:00<?, ?it/s]"
      ]
     },
     "metadata": {},
     "output_type": "display_data"
    },
    {
     "name": "stdout",
     "output_type": "stream",
     "text": [
      "29000 sentences are written\n",
      "29000 sentences are written\n"
     ]
    },
    {
     "data": {
      "application/vnd.jupyter.widget-view+json": {
       "model_id": "6cd0f9444a0c4df684c2bbd5ff8f26f4",
       "version_major": 2,
       "version_minor": 0
      },
      "text/plain": [
       "  0%|          | 0/16 [00:00<?, ?it/s]"
      ]
     },
     "metadata": {},
     "output_type": "display_data"
    },
    {
     "name": "stdout",
     "output_type": "stream",
     "text": [
      "1014 sentences are written\n",
      "1014 sentences are written\n",
      "epoch: 17 model get better valid loss 3.565 than 3.613\n",
      "Epoch: 17 | Time: 2m 24s\n",
      "\tTrain Loss: 2.655 | Train PPL:  14.232 | Train BLEU: 13.731\n",
      "\t Val. Loss: 3.565 |  Val. PPL:  35.356 |  Val. BLEU: 13.553\n"
     ]
    },
    {
     "data": {
      "application/vnd.jupyter.widget-view+json": {
       "model_id": "29911fd37c5c4ec4aaf36738ccb33a95",
       "version_major": 2,
       "version_minor": 0
      },
      "text/plain": [
       "  0%|          | 0/454 [00:00<?, ?it/s]"
      ]
     },
     "metadata": {},
     "output_type": "display_data"
    },
    {
     "name": "stdout",
     "output_type": "stream",
     "text": [
      "29000 sentences are written\n",
      "29000 sentences are written\n"
     ]
    },
    {
     "data": {
      "application/vnd.jupyter.widget-view+json": {
       "model_id": "854d18f9f176492b9700d7ea33625e56",
       "version_major": 2,
       "version_minor": 0
      },
      "text/plain": [
       "  0%|          | 0/16 [00:00<?, ?it/s]"
      ]
     },
     "metadata": {},
     "output_type": "display_data"
    },
    {
     "name": "stdout",
     "output_type": "stream",
     "text": [
      "1014 sentences are written\n",
      "1014 sentences are written\n",
      "epoch: 18 model get better valid loss 3.535 than 3.565\n",
      "Epoch: 18 | Time: 2m 24s\n",
      "\tTrain Loss: 2.545 | Train PPL:  12.743 | Train BLEU: 14.843\n",
      "\t Val. Loss: 3.535 |  Val. PPL:  34.312 |  Val. BLEU: 13.851\n"
     ]
    },
    {
     "data": {
      "application/vnd.jupyter.widget-view+json": {
       "model_id": "5f1b4eb39534453c88329725701b5bc1",
       "version_major": 2,
       "version_minor": 0
      },
      "text/plain": [
       "  0%|          | 0/454 [00:00<?, ?it/s]"
      ]
     },
     "metadata": {},
     "output_type": "display_data"
    },
    {
     "name": "stdout",
     "output_type": "stream",
     "text": [
      "29000 sentences are written\n",
      "29000 sentences are written\n"
     ]
    },
    {
     "data": {
      "application/vnd.jupyter.widget-view+json": {
       "model_id": "e02512739fd345d4923071d85099ef57",
       "version_major": 2,
       "version_minor": 0
      },
      "text/plain": [
       "  0%|          | 0/16 [00:00<?, ?it/s]"
      ]
     },
     "metadata": {},
     "output_type": "display_data"
    },
    {
     "name": "stdout",
     "output_type": "stream",
     "text": [
      "1014 sentences are written\n",
      "1014 sentences are written\n",
      "epoch: 19 model get better valid loss 3.525 than 3.535\n",
      "Epoch: 19 | Time: 2m 24s\n",
      "\tTrain Loss: 2.444 | Train PPL:  11.521 | Train BLEU: 16.081\n",
      "\t Val. Loss: 3.525 |  Val. PPL:  33.955 |  Val. BLEU: 14.788\n"
     ]
    },
    {
     "data": {
      "application/vnd.jupyter.widget-view+json": {
       "model_id": "2c342e769daa4fde900bc2f708cbd4a8",
       "version_major": 2,
       "version_minor": 0
      },
      "text/plain": [
       "  0%|          | 0/454 [00:00<?, ?it/s]"
      ]
     },
     "metadata": {},
     "output_type": "display_data"
    },
    {
     "name": "stdout",
     "output_type": "stream",
     "text": [
      "29000 sentences are written\n",
      "29000 sentences are written\n"
     ]
    },
    {
     "data": {
      "application/vnd.jupyter.widget-view+json": {
       "model_id": "eefe05b838724f58ad30ebbedb71f9db",
       "version_major": 2,
       "version_minor": 0
      },
      "text/plain": [
       "  0%|          | 0/16 [00:00<?, ?it/s]"
      ]
     },
     "metadata": {},
     "output_type": "display_data"
    },
    {
     "name": "stdout",
     "output_type": "stream",
     "text": [
      "1014 sentences are written\n",
      "1014 sentences are written\n",
      "epoch: 20 model get better valid loss 3.482 than 3.525\n",
      "Epoch: 20 | Time: 2m 24s\n",
      "\tTrain Loss: 2.344 | Train PPL:  10.420 | Train BLEU: 17.522\n",
      "\t Val. Loss: 3.482 |  Val. PPL:  32.521 |  Val. BLEU: 15.332\n"
     ]
    },
    {
     "data": {
      "application/vnd.jupyter.widget-view+json": {
       "model_id": "e9765de4e0e94813ba688ce456e05116",
       "version_major": 2,
       "version_minor": 0
      },
      "text/plain": [
       "  0%|          | 0/454 [00:00<?, ?it/s]"
      ]
     },
     "metadata": {},
     "output_type": "display_data"
    },
    {
     "name": "stdout",
     "output_type": "stream",
     "text": [
      "29000 sentences are written\n",
      "29000 sentences are written\n"
     ]
    },
    {
     "data": {
      "application/vnd.jupyter.widget-view+json": {
       "model_id": "78ca0f77b64d459f906a57c395ad7850",
       "version_major": 2,
       "version_minor": 0
      },
      "text/plain": [
       "  0%|          | 0/16 [00:00<?, ?it/s]"
      ]
     },
     "metadata": {},
     "output_type": "display_data"
    },
    {
     "name": "stdout",
     "output_type": "stream",
     "text": [
      "1014 sentences are written\n",
      "1014 sentences are written\n",
      "epoch: 21 model get better valid loss 3.445 than 3.482\n",
      "Epoch: 21 | Time: 2m 25s\n",
      "\tTrain Loss: 2.243 | Train PPL:   9.426 | Train BLEU: 18.925\n",
      "\t Val. Loss: 3.445 |  Val. PPL:  31.349 |  Val. BLEU: 15.845\n"
     ]
    },
    {
     "data": {
      "application/vnd.jupyter.widget-view+json": {
       "model_id": "70d349f72fd24367bf9ebf62688e18c2",
       "version_major": 2,
       "version_minor": 0
      },
      "text/plain": [
       "  0%|          | 0/454 [00:00<?, ?it/s]"
      ]
     },
     "metadata": {},
     "output_type": "display_data"
    },
    {
     "name": "stdout",
     "output_type": "stream",
     "text": [
      "29000 sentences are written\n",
      "29000 sentences are written\n"
     ]
    },
    {
     "data": {
      "application/vnd.jupyter.widget-view+json": {
       "model_id": "6652fb6342db4228a83482ce2c852296",
       "version_major": 2,
       "version_minor": 0
      },
      "text/plain": [
       "  0%|          | 0/16 [00:00<?, ?it/s]"
      ]
     },
     "metadata": {},
     "output_type": "display_data"
    },
    {
     "name": "stdout",
     "output_type": "stream",
     "text": [
      "1014 sentences are written\n",
      "1014 sentences are written\n",
      "Epoch: 22 | Time: 2m 25s\n",
      "\tTrain Loss: 2.145 | Train PPL:   8.543 | Train BLEU: 20.356\n",
      "\t Val. Loss: 3.495 |  Val. PPL:  32.942 |  Val. BLEU: 16.280\n"
     ]
    },
    {
     "data": {
      "application/vnd.jupyter.widget-view+json": {
       "model_id": "e0e0526894b84a09aa1d39fc3a76f92d",
       "version_major": 2,
       "version_minor": 0
      },
      "text/plain": [
       "  0%|          | 0/454 [00:00<?, ?it/s]"
      ]
     },
     "metadata": {},
     "output_type": "display_data"
    },
    {
     "name": "stdout",
     "output_type": "stream",
     "text": [
      "29000 sentences are written\n",
      "29000 sentences are written\n"
     ]
    },
    {
     "data": {
      "application/vnd.jupyter.widget-view+json": {
       "model_id": "42231e5b212541658761cf25c876e088",
       "version_major": 2,
       "version_minor": 0
      },
      "text/plain": [
       "  0%|          | 0/16 [00:00<?, ?it/s]"
      ]
     },
     "metadata": {},
     "output_type": "display_data"
    },
    {
     "name": "stdout",
     "output_type": "stream",
     "text": [
      "1014 sentences are written\n",
      "1014 sentences are written\n",
      "epoch: 23 model get better valid loss 3.445 than 3.445\n",
      "Epoch: 23 | Time: 2m 26s\n",
      "\tTrain Loss: 2.047 | Train PPL:   7.744 | Train BLEU: 21.959\n",
      "\t Val. Loss: 3.445 |  Val. PPL:  31.343 |  Val. BLEU: 17.204\n"
     ]
    },
    {
     "data": {
      "application/vnd.jupyter.widget-view+json": {
       "model_id": "c5c71202bfae4926948d385197c6bc6f",
       "version_major": 2,
       "version_minor": 0
      },
      "text/plain": [
       "  0%|          | 0/454 [00:00<?, ?it/s]"
      ]
     },
     "metadata": {},
     "output_type": "display_data"
    },
    {
     "name": "stdout",
     "output_type": "stream",
     "text": [
      "29000 sentences are written\n",
      "29000 sentences are written\n"
     ]
    },
    {
     "data": {
      "application/vnd.jupyter.widget-view+json": {
       "model_id": "901884a5d7354eeeb564f2e7c05dc92d",
       "version_major": 2,
       "version_minor": 0
      },
      "text/plain": [
       "  0%|          | 0/16 [00:00<?, ?it/s]"
      ]
     },
     "metadata": {},
     "output_type": "display_data"
    },
    {
     "name": "stdout",
     "output_type": "stream",
     "text": [
      "1014 sentences are written\n",
      "1014 sentences are written\n",
      "epoch: 24 model get better valid loss 3.409 than 3.445\n",
      "Epoch: 24 | Time: 2m 26s\n",
      "\tTrain Loss: 1.978 | Train PPL:   7.231 | Train BLEU: 23.063\n",
      "\t Val. Loss: 3.409 |  Val. PPL:  30.242 |  Val. BLEU: 17.388\n"
     ]
    },
    {
     "data": {
      "application/vnd.jupyter.widget-view+json": {
       "model_id": "829a3256550f4ebba271947d158d3236",
       "version_major": 2,
       "version_minor": 0
      },
      "text/plain": [
       "  0%|          | 0/454 [00:00<?, ?it/s]"
      ]
     },
     "metadata": {},
     "output_type": "display_data"
    },
    {
     "name": "stdout",
     "output_type": "stream",
     "text": [
      "29000 sentences are written\n",
      "29000 sentences are written\n"
     ]
    },
    {
     "data": {
      "application/vnd.jupyter.widget-view+json": {
       "model_id": "5e99a5d7e6be4feb93e3175aad7997e9",
       "version_major": 2,
       "version_minor": 0
      },
      "text/plain": [
       "  0%|          | 0/16 [00:00<?, ?it/s]"
      ]
     },
     "metadata": {},
     "output_type": "display_data"
    },
    {
     "name": "stdout",
     "output_type": "stream",
     "text": [
      "1014 sentences are written\n",
      "1014 sentences are written\n",
      "Epoch: 25 | Time: 2m 26s\n",
      "\tTrain Loss: 1.877 | Train PPL:   6.535 | Train BLEU: 24.834\n",
      "\t Val. Loss: 3.414 |  Val. PPL:  30.376 |  Val. BLEU: 18.613\n"
     ]
    },
    {
     "data": {
      "application/vnd.jupyter.widget-view+json": {
       "model_id": "76c6c4fe27124d298ed9256d36670cb8",
       "version_major": 2,
       "version_minor": 0
      },
      "text/plain": [
       "  0%|          | 0/454 [00:00<?, ?it/s]"
      ]
     },
     "metadata": {},
     "output_type": "display_data"
    },
    {
     "name": "stdout",
     "output_type": "stream",
     "text": [
      "29000 sentences are written\n",
      "29000 sentences are written\n"
     ]
    },
    {
     "data": {
      "application/vnd.jupyter.widget-view+json": {
       "model_id": "35583ace551940909cca399877337145",
       "version_major": 2,
       "version_minor": 0
      },
      "text/plain": [
       "  0%|          | 0/16 [00:00<?, ?it/s]"
      ]
     },
     "metadata": {},
     "output_type": "display_data"
    },
    {
     "name": "stdout",
     "output_type": "stream",
     "text": [
      "1014 sentences are written\n",
      "1014 sentences are written\n",
      "epoch: 26 model get better valid loss 3.405 than 3.409\n",
      "Epoch: 26 | Time: 2m 26s\n",
      "\tTrain Loss: 1.784 | Train PPL:   5.953 | Train BLEU: 26.451\n",
      "\t Val. Loss: 3.405 |  Val. PPL:  30.125 |  Val. BLEU: 18.835\n"
     ]
    },
    {
     "data": {
      "application/vnd.jupyter.widget-view+json": {
       "model_id": "b0812a217fd64a8286d5286f4930af01",
       "version_major": 2,
       "version_minor": 0
      },
      "text/plain": [
       "  0%|          | 0/454 [00:00<?, ?it/s]"
      ]
     },
     "metadata": {},
     "output_type": "display_data"
    },
    {
     "name": "stdout",
     "output_type": "stream",
     "text": [
      "29000 sentences are written\n",
      "29000 sentences are written\n"
     ]
    },
    {
     "data": {
      "application/vnd.jupyter.widget-view+json": {
       "model_id": "9f543a1eb93f4db2b1c04d8495b7b968",
       "version_major": 2,
       "version_minor": 0
      },
      "text/plain": [
       "  0%|          | 0/16 [00:00<?, ?it/s]"
      ]
     },
     "metadata": {},
     "output_type": "display_data"
    },
    {
     "name": "stdout",
     "output_type": "stream",
     "text": [
      "1014 sentences are written\n",
      "1014 sentences are written\n",
      "epoch: 27 model get better valid loss 3.392 than 3.405\n",
      "Epoch: 27 | Time: 2m 26s\n",
      "\tTrain Loss: 1.728 | Train PPL:   5.632 | Train BLEU: 27.731\n",
      "\t Val. Loss: 3.392 |  Val. PPL:  29.722 |  Val. BLEU: 19.278\n"
     ]
    },
    {
     "data": {
      "application/vnd.jupyter.widget-view+json": {
       "model_id": "f5250f49887b4a5b8a2fb11f71d850fb",
       "version_major": 2,
       "version_minor": 0
      },
      "text/plain": [
       "  0%|          | 0/454 [00:00<?, ?it/s]"
      ]
     },
     "metadata": {},
     "output_type": "display_data"
    },
    {
     "name": "stdout",
     "output_type": "stream",
     "text": [
      "29000 sentences are written\n",
      "29000 sentences are written\n"
     ]
    },
    {
     "data": {
      "application/vnd.jupyter.widget-view+json": {
       "model_id": "d5a0e227afdb45ae9b89f6b4138fa44b",
       "version_major": 2,
       "version_minor": 0
      },
      "text/plain": [
       "  0%|          | 0/16 [00:00<?, ?it/s]"
      ]
     },
     "metadata": {},
     "output_type": "display_data"
    },
    {
     "name": "stdout",
     "output_type": "stream",
     "text": [
      "1014 sentences are written\n",
      "1014 sentences are written\n",
      "epoch: 28 model get better valid loss 3.386 than 3.392\n",
      "Epoch: 28 | Time: 2m 27s\n",
      "\tTrain Loss: 1.672 | Train PPL:   5.324 | Train BLEU: 28.714\n",
      "\t Val. Loss: 3.386 |  Val. PPL:  29.561 |  Val. BLEU: 19.174\n"
     ]
    },
    {
     "data": {
      "application/vnd.jupyter.widget-view+json": {
       "model_id": "fb0b69f6597f4569995d99d4ef4bda73",
       "version_major": 2,
       "version_minor": 0
      },
      "text/plain": [
       "  0%|          | 0/454 [00:00<?, ?it/s]"
      ]
     },
     "metadata": {},
     "output_type": "display_data"
    },
    {
     "name": "stdout",
     "output_type": "stream",
     "text": [
      "29000 sentences are written\n",
      "29000 sentences are written\n"
     ]
    },
    {
     "data": {
      "application/vnd.jupyter.widget-view+json": {
       "model_id": "679443baefc14822acbe856c7dd39545",
       "version_major": 2,
       "version_minor": 0
      },
      "text/plain": [
       "  0%|          | 0/16 [00:00<?, ?it/s]"
      ]
     },
     "metadata": {},
     "output_type": "display_data"
    },
    {
     "name": "stdout",
     "output_type": "stream",
     "text": [
      "1014 sentences are written\n",
      "1014 sentences are written\n",
      "Epoch: 29 | Time: 2m 27s\n",
      "\tTrain Loss: 1.588 | Train PPL:   4.896 | Train BLEU: 30.310\n",
      "\t Val. Loss: 3.397 |  Val. PPL:  29.871 |  Val. BLEU: 19.896\n"
     ]
    },
    {
     "data": {
      "application/vnd.jupyter.widget-view+json": {
       "model_id": "5c8f4ff0888d4d68a43a8b2bf1047d55",
       "version_major": 2,
       "version_minor": 0
      },
      "text/plain": [
       "  0%|          | 0/454 [00:00<?, ?it/s]"
      ]
     },
     "metadata": {},
     "output_type": "display_data"
    },
    {
     "name": "stdout",
     "output_type": "stream",
     "text": [
      "29000 sentences are written\n",
      "29000 sentences are written\n"
     ]
    },
    {
     "data": {
      "application/vnd.jupyter.widget-view+json": {
       "model_id": "5300fb8c5eee44689c042dcac117926c",
       "version_major": 2,
       "version_minor": 0
      },
      "text/plain": [
       "  0%|          | 0/16 [00:00<?, ?it/s]"
      ]
     },
     "metadata": {},
     "output_type": "display_data"
    },
    {
     "name": "stdout",
     "output_type": "stream",
     "text": [
      "1014 sentences are written\n",
      "1014 sentences are written\n",
      "Epoch: 30 | Time: 2m 26s\n",
      "\tTrain Loss: 1.541 | Train PPL:   4.670 | Train BLEU: 31.415\n",
      "\t Val. Loss: 3.417 |  Val. PPL:  30.487 |  Val. BLEU: 20.372\n"
     ]
    }
   ],
   "source": [
    "train_losses = list()\n",
    "valid_losses = list()\n",
    "train_bleues = list()\n",
    "valid_bleues = list()\n",
    "best_valid_loss = float('inf')\n",
    "for epoch in range(N_EPOCHS):\n",
    "    start_time = time.time()\n",
    "    train_loss, train_bleu = train_epoch(model, epoch, train_iterator, optimizer, criterion, train_sentence_output, train_pred_sentence_output)\n",
    "    valid_loss, valid_bleu = evaluate_epoch(model, valid_iterator, criterion, epoch, orig_path=valid_sentence_output, pred_path=valid_pred_sentence_output)\n",
    "    train_losses.append(train_loss)\n",
    "    train_bleues.append(train_bleu)\n",
    "    valid_losses.append(valid_loss)\n",
    "    valid_bleues.append(valid_bleu)\n",
    "    end_time = time.time()\n",
    "    epoch_mins, epoch_secs = epoch_time(start_time, end_time)\n",
    "    if valid_loss < best_valid_loss:\n",
    "        print(f'epoch: {epoch+1} model get better valid loss {valid_loss:.3f} than {best_valid_loss:.3f}')\n",
    "        best_valid_loss = valid_loss\n",
    "        torch.save(model.state_dict(), model_path)\n",
    "    print(f'Epoch: {epoch+1:02} | Time: {epoch_mins}m {epoch_secs}s')\n",
    "    print(f'\\tTrain Loss: {train_loss:.3f} | Train PPL: {math.exp(train_loss):7.3f} | Train BLEU: {train_bleu:.3f}')\n",
    "    print(f'\\t Val. Loss: {valid_loss:.3f} |  Val. PPL: {math.exp(valid_loss):7.3f} |  Val. BLEU: {valid_bleu:.3f}')\n"
   ]
  },
  {
   "cell_type": "code",
   "execution_count": 33,
   "metadata": {},
   "outputs": [
    {
     "data": {
      "application/vnd.jupyter.widget-view+json": {
       "model_id": "e06493c04cdd4e1e98601b2c67617f87",
       "version_major": 2,
       "version_minor": 0
      },
      "text/plain": [
       "  0%|          | 0/16 [00:00<?, ?it/s]"
      ]
     },
     "metadata": {},
     "output_type": "display_data"
    },
    {
     "name": "stdout",
     "output_type": "stream",
     "text": [
      "1000 sentences are written\n",
      "1000 sentences are written\n",
      "\tTest Loss: 3.359 |  Test PPL:  28.764   | Test BLEU: 21.354\n"
     ]
    }
   ],
   "source": [
    "best_attn = Attention(ENC_HID_DIM, ENC_N_LAYER, DEC_HID_DIM)\n",
    "best_enc = Encoder(INPUT_DIM, ENC_EMB_DIM, ENC_HID_DIM, DEC_HID_DIM, ENC_N_LAYER, ENC_DROPOUT)\n",
    "best_dec = Decoder(OUTPUT_DIM, DEC_EMB_DIM, ENC_HID_DIM, DEC_HID_DIM, DEC_N_LAYER, DEC_DROPOUT, best_attn)\n",
    "\n",
    "best_model = Seq2Seq(best_enc, best_dec, device).to(device)\n",
    "\n",
    "best_state_dict = torch.load(model_path)\n",
    "best_model.load_state_dict(best_state_dict)\n",
    "best_model.to(device)\n",
    "\n",
    "test_loss, test_bleu = evaluate_epoch(model, test_iterator, criterion, epoch=0, orig_path=test_sentence_output, pred_path=test_pred_sentence_output)\n",
    "    \n",
    "print(f'\\tTest Loss: {test_loss:.3f} |  Test PPL: {math.exp(test_loss):7.3f}   | Test BLEU: {test_bleu:.3f}')\n"
   ]
  },
  {
   "cell_type": "code",
   "execution_count": null,
   "metadata": {},
   "outputs": [],
   "source": []
  },
  {
   "cell_type": "code",
   "execution_count": null,
   "metadata": {},
   "outputs": [],
   "source": []
  },
  {
   "cell_type": "code",
   "execution_count": null,
   "metadata": {},
   "outputs": [],
   "source": []
  },
  {
   "cell_type": "code",
   "execution_count": null,
   "metadata": {},
   "outputs": [],
   "source": []
  },
  {
   "cell_type": "code",
   "execution_count": null,
   "metadata": {},
   "outputs": [],
   "source": []
  },
  {
   "cell_type": "code",
   "execution_count": null,
   "metadata": {},
   "outputs": [],
   "source": []
  },
  {
   "cell_type": "code",
   "execution_count": null,
   "metadata": {},
   "outputs": [],
   "source": []
  }
 ],
 "metadata": {
  "kernelspec": {
   "display_name": "Python 3",
   "language": "python",
   "name": "python3"
  },
  "language_info": {
   "codemirror_mode": {
    "name": "ipython",
    "version": 3
   },
   "file_extension": ".py",
   "mimetype": "text/x-python",
   "name": "python",
   "nbconvert_exporter": "python",
   "pygments_lexer": "ipython3",
   "version": "3.8.5"
  }
 },
 "nbformat": 4,
 "nbformat_minor": 4
}
